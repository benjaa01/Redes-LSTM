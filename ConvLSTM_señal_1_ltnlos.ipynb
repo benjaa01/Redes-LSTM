{
  "nbformat": 4,
  "nbformat_minor": 0,
  "metadata": {
    "colab": {
      "name": "ConvLSTM señal 1 ltnlos.ipynb",
      "provenance": [],
      "collapsed_sections": [],
      "toc_visible": true
    },
    "kernelspec": {
      "name": "python3",
      "display_name": "Python 3"
    },
    "accelerator": "GPU"
  },
  "cells": [
    {
      "cell_type": "code",
      "metadata": {
        "id": "16BbQtJLKU8m",
        "colab_type": "code",
        "colab": {}
      },
      "source": [
        ""
      ],
      "execution_count": 0,
      "outputs": []
    },
    {
      "cell_type": "code",
      "metadata": {
        "id": "HGZ_fZHURJOj",
        "colab_type": "code",
        "outputId": "2b0b78d2-87b3-43e2-bb0f-6c01536dd741",
        "colab": {
          "base_uri": "https://localhost:8080/",
          "height": 122
        }
      },
      "source": [
        "from google.colab import drive\n",
        "drive.mount('/content/drive')"
      ],
      "execution_count": 1,
      "outputs": [
        {
          "output_type": "stream",
          "text": [
            "Go to this URL in a browser: https://accounts.google.com/o/oauth2/auth?client_id=947318989803-6bn6qk8qdgf4n4g3pfee6491hc0brc4i.apps.googleusercontent.com&redirect_uri=urn%3aietf%3awg%3aoauth%3a2.0%3aoob&response_type=code&scope=email%20https%3a%2f%2fwww.googleapis.com%2fauth%2fdocs.test%20https%3a%2f%2fwww.googleapis.com%2fauth%2fdrive%20https%3a%2f%2fwww.googleapis.com%2fauth%2fdrive.photos.readonly%20https%3a%2f%2fwww.googleapis.com%2fauth%2fpeopleapi.readonly\n",
            "\n",
            "Enter your authorization code:\n",
            "··········\n",
            "Mounted at /content/drive\n"
          ],
          "name": "stdout"
        }
      ]
    },
    {
      "cell_type": "code",
      "metadata": {
        "id": "co-ZU3mFoYzc",
        "colab_type": "code",
        "colab": {
          "base_uri": "https://localhost:8080/",
          "height": 97
        },
        "outputId": "f0206230-d060-4e37-ee01-d509b2714e82"
      },
      "source": [
        "import time\n",
        "#A continuación se importan laas librerias necesarias para el entrenamiento de la red \n",
        "import numpy as np\n",
        "import matplotlib.pyplot as plt\n",
        "import pandas as pd\n",
        "import math\n",
        "from tensorflow import keras\n",
        "from sklearn.preprocessing import MinMaxScaler\n",
        "from keras.models import Sequential\n",
        "from keras.layers import Dense\n",
        "from keras.layers import Dropout\n",
        "from keras.layers import LSTM\n",
        "from keras.layers import Activation\n",
        "from sklearn.metrics import mean_squared_error\n",
        "from sklearn.metrics import mean_absolute_error\n",
        "from keras.layers import ConvLSTM2D\n",
        "from keras.layers import Flatten\n"
      ],
      "execution_count": 2,
      "outputs": [
        {
          "output_type": "display_data",
          "data": {
            "text/html": [
              "<p style=\"color: red;\">\n",
              "The default version of TensorFlow in Colab will soon switch to TensorFlow 2.x.<br>\n",
              "We recommend you <a href=\"https://www.tensorflow.org/guide/migrate\" target=\"_blank\">upgrade</a> now \n",
              "or ensure your notebook will continue to use TensorFlow 1.x via the <code>%tensorflow_version 1.x</code> magic:\n",
              "<a href=\"https://colab.research.google.com/notebooks/tensorflow_version.ipynb\" target=\"_blank\">more info</a>.</p>\n"
            ],
            "text/plain": [
              "<IPython.core.display.HTML object>"
            ]
          },
          "metadata": {
            "tags": []
          }
        },
        {
          "output_type": "stream",
          "text": [
            "Using TensorFlow backend.\n"
          ],
          "name": "stderr"
        }
      ]
    },
    {
      "cell_type": "code",
      "metadata": {
        "id": "uENr7cEyopSr",
        "colab_type": "code",
        "outputId": "5ad067b2-5d5f-4306-eecb-ec0dc026e902",
        "colab": {
          "base_uri": "https://localhost:8080/",
          "height": 670
        }
      },
      "source": [
        "dataframe = pd.read_csv('/content/drive/My Drive/LSTM /Mediciones en csv/LTNLOS CSV/potencia 2000-01-30 20_3A40_3A27 Antenna Horn Time 300[s] SwitchingBy 0 Horn 0 Omni 0 FIN_009.csv', header=None )\n",
        "#llevar al dataframe a un arreglo de valores\n",
        "dataset = dataframe.values\n",
        "#dataset solo para la funcion senoidal\n",
        "POT = dataset[0:len(dataset),1]\n",
        "#POT = dataset\n",
        "print(POT.shape)\n",
        "plt.figure(figsize=[12,10])\n",
        "plt.grid()\n",
        "plt.plot(POT)\n",
        "plt.xlabel(\"muestras\",fontsize = 20)\n",
        "plt.ylabel(\"Potencia\",fontsize = 20)\n",
        "plt.title(\"Datos reales\", fontsize = 20)"
      ],
      "execution_count": 12,
      "outputs": [
        {
          "output_type": "stream",
          "text": [
            "(210870,)\n"
          ],
          "name": "stdout"
        },
        {
          "output_type": "execute_result",
          "data": {
            "text/plain": [
              "Text(0.5, 1.0, 'Datos reales')"
            ]
          },
          "metadata": {
            "tags": []
          },
          "execution_count": 12
        },
        {
          "output_type": "display_data",
          "data": {
            "image/png": "[encoded data removed]",
            "text/plain": [
              "<Figure size 864x720 with 1 Axes>"
            ]
          },
          "metadata": {
            "tags": []
          }
        }
      ]
    },
    {
      "cell_type": "markdown",
      "metadata": {
        "id": "PH0GwKKdSS0K",
        "colab_type": "text"
      },
      "source": [
        "# Nueva sección"
      ]
    },
    {
      "cell_type": "code",
      "metadata": {
        "id": "2-vxWHnxopQ_",
        "colab_type": "code",
        "outputId": "f626e4ef-ac0f-4a27-d669-502f42bf23b3",
        "colab": {
          "base_uri": "https://localhost:8080/",
          "height": 34
        }
      },
      "source": [
        "#llevo la funcion a un arreglo de [lARGO DEL ARREGLO ,1] PARA ESCALAR LOS DATOS y que la red aprenda de mejor forma\n",
        "POT2=POT.reshape(len(POT),1)\n",
        "print(POT2.shape)\n",
        "# normalize the dataset\n",
        "scaler = MinMaxScaler(feature_range=(0, 1))\n",
        "POT2 = scaler.fit_transform(POT2)"
      ],
      "execution_count": 13,
      "outputs": [
        {
          "output_type": "stream",
          "text": [
            "(210870, 1)\n"
          ],
          "name": "stdout"
        }
      ]
    },
    {
      "cell_type": "code",
      "metadata": {
        "id": "xfDvhdRmopOX",
        "colab_type": "code",
        "outputId": "094080bd-39ec-4b6d-da23-13b65c5bd1e4",
        "colab": {
          "base_uri": "https://localhost:8080/",
          "height": 68
        }
      },
      "source": [
        "# divido la funcion y1 en arreglos para entrenar y probar la red\n",
        "train_size = int(len(POT2) * 0.8)\n",
        "test_size = len(POT2) - train_size\n",
        "train, test = POT2[0:train_size,:], POT2[train_size:len(POT2),:]\n",
        "print(len(train), len(test))\n",
        "print(train.shape)\n",
        "print(test.shape)"
      ],
      "execution_count": 14,
      "outputs": [
        {
          "output_type": "stream",
          "text": [
            "168696 42174\n",
            "(168696, 1)\n",
            "(42174, 1)\n"
          ],
          "name": "stdout"
        }
      ]
    },
    {
      "cell_type": "code",
      "metadata": {
        "id": "3SZe14pdopIv",
        "colab_type": "code",
        "colab": {}
      },
      "source": [
        "# convertir un arreglo de valores en una matrix\n",
        "def create_dataset(POT2, look_back=1):\n",
        "    dataX, dataY = [], []\n",
        "    for i in range(len(POT2)-look_back-1):\n",
        "        a = POT2[i:(i+look_back), 0]\n",
        "        dataX.append(a)\n",
        "        dataY.append(POT2[i + look_back, 0])\n",
        "    return np.array(dataX), np.array(dataY)"
      ],
      "execution_count": 0,
      "outputs": []
    },
    {
      "cell_type": "code",
      "metadata": {
        "id": "zGYRW2MxopF3",
        "colab_type": "code",
        "outputId": "c9584312-1743-4d0c-d656-5dea152558c3",
        "colab": {
          "base_uri": "https://localhost:8080/",
          "height": 85
        }
      },
      "source": [
        "# reshape dentro X=t and Y=t+1\n",
        "look_back = 128\n",
        "trainX, trainY = create_dataset(train, look_back)\n",
        "testX, testY = create_dataset(test, look_back)\n",
        "print(trainX.shape)\n",
        "print(testX.shape)\n",
        "print(trainY.shape)\n",
        "print(testY.shape)\n",
        "#print(trainX[0])\n",
        "#print(trainY[0])\n",
        "#print(trainX[1])\n",
        "#print(trainY[1])\n",
        "#print(trainX[2])\n",
        "#print(trainY[3])"
      ],
      "execution_count": 16,
      "outputs": [
        {
          "output_type": "stream",
          "text": [
            "(168567, 128)\n",
            "(42045, 128)\n",
            "(168567,)\n",
            "(42045,)\n"
          ],
          "name": "stdout"
        }
      ]
    },
    {
      "cell_type": "code",
      "metadata": {
        "id": "dWcwUQ2hopDp",
        "colab_type": "code",
        "colab": {}
      },
      "source": [
        "#n_timesteps, n_features, n_outputs = trainX.shape[1], trainX.shape[2], trainy.shape[1]\n",
        "# reshape into subsequences (samples, time steps, rows, cols, channels)\n",
        "n_steps, n_length, n_features = 4, 32, 1\n",
        "trainX = trainX.reshape((trainX.shape[0], n_steps, 1, n_length, n_features))\n",
        "testX = testX.reshape((testX.shape[0], n_steps, 1, n_length, n_features))"
      ],
      "execution_count": 0,
      "outputs": []
    },
    {
      "cell_type": "code",
      "metadata": {
        "id": "3zah7X9Loo_X",
        "colab_type": "code",
        "colab": {}
      },
      "source": [
        ""
      ],
      "execution_count": 0,
      "outputs": []
    },
    {
      "cell_type": "code",
      "metadata": {
        "id": "Pibf3Aqjoo9W",
        "colab_type": "code",
        "outputId": "7b811d1c-39f2-4788-f636-50bf90aa66c5",
        "colab": {
          "base_uri": "https://localhost:8080/",
          "height": 1000
        }
      },
      "source": [
        "model = Sequential()\n",
        "model.add(ConvLSTM2D(filters=128, kernel_size=(1,4), return_sequences = True ,activation='relu', input_shape=(n_steps, 1, n_length, n_features)))\n",
        "#model.add(ConvLSTM2D(filters=32, kernel_size=(1,3), input_shape=(n_steps, 1, n_length, n_features)))\n",
        "model.add(Dropout(0.3))\n",
        "model.add(ConvLSTM2D(filters=128, kernel_size=(1,4), activation='relu', input_shape=(n_steps, 1, n_length, n_features)))\n",
        "#model.add(LSTM(input_shape = (None, None, 32, 1), output_dim= 128, return_sequences = True))\n",
        "model.add(Dropout(0.3))\n",
        "#model.add(LSTM(128))\n",
        "#model.add(Dropout(0.3))\n",
        "model.add(Flatten())\n",
        "model.add(Dense(128))\n",
        "model.add(Dropout(0.2))\n",
        "model.add(Dense(1))\n",
        "\n",
        "# define model\n",
        "#model = Sequential()\n",
        "#model.add(ConvLSTM2D(filters=128, kernel_size=(1,3), activation='relu', input_shape=(n_steps, 1, n_length, n_features)))\n",
        "#model.add(Dropout(0.3))\n",
        "#model.add(Flatten())\n",
        "#model.add(Dense(100, activation='relu'))\n",
        "#model.add(Dense(1))\n",
        "model.compile(loss='mean_squared_error', optimizer='adam', metrics=['mse', 'mae', 'mape'])\n",
        "model.summary()\n",
        "keras.utils.plot_model(model, 'my_first_model.png')"
      ],
      "execution_count": 18,
      "outputs": [
        {
          "output_type": "stream",
          "text": [
            "Model: \"sequential_2\"\n",
            "_________________________________________________________________\n",
            "Layer (type)                 Output Shape              Param #   \n",
            "=================================================================\n",
            "conv_lst_m2d_3 (ConvLSTM2D)  (None, 4, 1, 29, 128)     264704    \n",
            "_________________________________________________________________\n",
            "dropout_4 (Dropout)          (None, 4, 1, 29, 128)     0         \n",
            "_________________________________________________________________\n",
            "conv_lst_m2d_4 (ConvLSTM2D)  (None, 1, 26, 128)        524800    \n",
            "_________________________________________________________________\n",
            "dropout_5 (Dropout)          (None, 1, 26, 128)        0         \n",
            "_________________________________________________________________\n",
            "flatten_2 (Flatten)          (None, 3328)              0         \n",
            "_________________________________________________________________\n",
            "dense_3 (Dense)              (None, 128)               426112    \n",
            "_________________________________________________________________\n",
            "dropout_6 (Dropout)          (None, 128)               0         \n",
            "_________________________________________________________________\n",
            "dense_4 (Dense)              (None, 1)                 129       \n",
            "=================================================================\n",
            "Total params: 1,215,745\n",
            "Trainable params: 1,215,745\n",
            "Non-trainable params: 0\n",
            "_________________________________________________________________\n"
          ],
          "name": "stdout"
        },
        {
          "output_type": "execute_result",
          "data": {
            "image/png": "[encoded data removed]",
            "text/plain": [
              "<IPython.core.display.Image object>"
            ]
          },
          "metadata": {
            "tags": []
          },
          "execution_count": 18
        }
      ]
    },
    {
      "cell_type": "code",
      "metadata": {
        "id": "TlKss57PfV00",
        "colab_type": "code",
        "colab": {}
      },
      "source": [
        "from keras.callbacks import EarlyStopping\n",
        "from keras.callbacks import ModelCheckpoint\n",
        "filepath=\"Checkpoint_mejores_pesos.hdf5\"\n",
        "checkpoint = ModelCheckpoint(filepath, monitor='val_mean_absolute_percentage_error', verbose=1, save_best_only=True, mode='min')\n",
        "# simple early stopping\n",
        "es = EarlyStopping(monitor='val_mean_absolute_percentage_error', mode='min', verbose=1, patience=5)"
      ],
      "execution_count": 0,
      "outputs": []
    },
    {
      "cell_type": "code",
      "metadata": {
        "id": "cTGFjquKoo7L",
        "colab_type": "code",
        "outputId": "c77cdbda-c421-4e03-a6e8-5828ac62fbcd",
        "colab": {
          "base_uri": "https://localhost:8080/",
          "height": 751
        }
      },
      "source": [
        "batch_size= 32 \n",
        "epochs= 10\n",
        "start = time.time()\n",
        "History_htnlos1 = model.fit(trainX, trainY,batch_size=batch_size, epochs= epochs, callbacks=[es, checkpoint] , validation_split=0.1)\n",
        "print(\"> Compilation Time : \", time.time() - start)"
      ],
      "execution_count": 20,
      "outputs": [
        {
          "output_type": "stream",
          "text": [
            "Train on 151710 samples, validate on 16857 samples\n",
            "Epoch 1/10\n",
            "151710/151710 [==============================] - 164s 1ms/step - loss: 0.0044 - mean_squared_error: 0.0044 - mean_absolute_error: 0.0454 - mean_absolute_percentage_error: 8.4386 - val_loss: 0.0035 - val_mean_squared_error: 0.0035 - val_mean_absolute_error: 0.0383 - val_mean_absolute_percentage_error: 8.7603\n",
            "\n",
            "Epoch 00001: val_mean_absolute_percentage_error improved from inf to 8.76032, saving model to Checkpoint_mejores_pesos.hdf5\n",
            "Epoch 2/10\n",
            "151710/151710 [==============================] - 161s 1ms/step - loss: 0.0027 - mean_squared_error: 0.0027 - mean_absolute_error: 0.0350 - mean_absolute_percentage_error: 6.5977 - val_loss: 0.0024 - val_mean_squared_error: 0.0024 - val_mean_absolute_error: 0.0313 - val_mean_absolute_percentage_error: 7.0234\n",
            "\n",
            "Epoch 00002: val_mean_absolute_percentage_error improved from 8.76032 to 7.02338, saving model to Checkpoint_mejores_pesos.hdf5\n",
            "Epoch 3/10\n",
            "151710/151710 [==============================] - 154s 1ms/step - loss: 0.0022 - mean_squared_error: 0.0022 - mean_absolute_error: 0.0302 - mean_absolute_percentage_error: 5.7297 - val_loss: 0.0021 - val_mean_squared_error: 0.0021 - val_mean_absolute_error: 0.0284 - val_mean_absolute_percentage_error: 6.2214\n",
            "\n",
            "Epoch 00003: val_mean_absolute_percentage_error improved from 7.02338 to 6.22135, saving model to Checkpoint_mejores_pesos.hdf5\n",
            "Epoch 4/10\n",
            "151710/151710 [==============================] - 154s 1ms/step - loss: 0.0021 - mean_squared_error: 0.0021 - mean_absolute_error: 0.0291 - mean_absolute_percentage_error: 5.5365 - val_loss: 0.0021 - val_mean_squared_error: 0.0021 - val_mean_absolute_error: 0.0285 - val_mean_absolute_percentage_error: 6.2578\n",
            "\n",
            "Epoch 00004: val_mean_absolute_percentage_error did not improve from 6.22135\n",
            "Epoch 5/10\n",
            "151710/151710 [==============================] - 155s 1ms/step - loss: 0.0021 - mean_squared_error: 0.0021 - mean_absolute_error: 0.0285 - mean_absolute_percentage_error: 5.4294 - val_loss: 0.0022 - val_mean_squared_error: 0.0022 - val_mean_absolute_error: 0.0299 - val_mean_absolute_percentage_error: 6.3738\n",
            "\n",
            "Epoch 00005: val_mean_absolute_percentage_error did not improve from 6.22135\n",
            "Epoch 6/10\n",
            "151710/151710 [==============================] - 155s 1ms/step - loss: 0.0020 - mean_squared_error: 0.0020 - mean_absolute_error: 0.0282 - mean_absolute_percentage_error: 5.3738 - val_loss: 0.0020 - val_mean_squared_error: 0.0020 - val_mean_absolute_error: 0.0281 - val_mean_absolute_percentage_error: 6.0128\n",
            "\n",
            "Epoch 00006: val_mean_absolute_percentage_error improved from 6.22135 to 6.01283, saving model to Checkpoint_mejores_pesos.hdf5\n",
            "Epoch 7/10\n",
            "151710/151710 [==============================] - 154s 1ms/step - loss: 0.0020 - mean_squared_error: 0.0020 - mean_absolute_error: 0.0280 - mean_absolute_percentage_error: 5.3370 - val_loss: 0.0020 - val_mean_squared_error: 0.0020 - val_mean_absolute_error: 0.0281 - val_mean_absolute_percentage_error: 6.0294\n",
            "\n",
            "Epoch 00007: val_mean_absolute_percentage_error did not improve from 6.01283\n",
            "Epoch 8/10\n",
            "151710/151710 [==============================] - 154s 1ms/step - loss: 0.0020 - mean_squared_error: 0.0020 - mean_absolute_error: 0.0277 - mean_absolute_percentage_error: 5.2829 - val_loss: 0.0020 - val_mean_squared_error: 0.0020 - val_mean_absolute_error: 0.0285 - val_mean_absolute_percentage_error: 6.1916\n",
            "\n",
            "Epoch 00008: val_mean_absolute_percentage_error did not improve from 6.01283\n",
            "Epoch 9/10\n",
            "151710/151710 [==============================] - 154s 1ms/step - loss: 0.0020 - mean_squared_error: 0.0020 - mean_absolute_error: 0.0275 - mean_absolute_percentage_error: 5.2495 - val_loss: 0.0019 - val_mean_squared_error: 0.0019 - val_mean_absolute_error: 0.0275 - val_mean_absolute_percentage_error: 5.9294\n",
            "\n",
            "Epoch 00009: val_mean_absolute_percentage_error improved from 6.01283 to 5.92939, saving model to Checkpoint_mejores_pesos.hdf5\n",
            "Epoch 10/10\n",
            "151710/151710 [==============================] - 153s 1ms/step - loss: 0.0020 - mean_squared_error: 0.0020 - mean_absolute_error: 0.0275 - mean_absolute_percentage_error: 5.2433 - val_loss: 0.0024 - val_mean_squared_error: 0.0024 - val_mean_absolute_error: 0.0332 - val_mean_absolute_percentage_error: 7.4829\n",
            "\n",
            "Epoch 00010: val_mean_absolute_percentage_error did not improve from 5.92939\n",
            "> Compilation Time :  1560.0342285633087\n"
          ],
          "name": "stdout"
        }
      ]
    },
    {
      "cell_type": "code",
      "metadata": {
        "id": "PAsAJVRC3qGv",
        "colab_type": "code",
        "colab": {}
      },
      "source": [
        "# serialize model to JSON\n",
        "model_json = model.to_json()\n",
        "with open(\"model_ltnlos_señal1.json\", \"w\") as json_file:\n",
        "    json_file.write(model_json)\n"
      ],
      "execution_count": 0,
      "outputs": []
    },
    {
      "cell_type": "code",
      "metadata": {
        "id": "AUNsMfzpZFAN",
        "colab_type": "code",
        "colab": {}
      },
      "source": [
        "import pickle\n",
        "\n",
        "pickle_out = open(\"History_htnlos1.pickle\",\"wb\")\n",
        "pickle.dump(History_htnlos1, pickle_out)\n",
        "pickle_out.close()"
      ],
      "execution_count": 0,
      "outputs": []
    },
    {
      "cell_type": "code",
      "metadata": {
        "id": "SN2qrrsJZIin",
        "colab_type": "code",
        "colab": {}
      },
      "source": [
        "import pickle \n",
        "\n",
        "pickle_in = open(\"History_htnlos1.pickle\",\"rb\")\n",
        "History_saved = pickle.load(pickle_in)\n"
      ],
      "execution_count": 0,
      "outputs": []
    },
    {
      "cell_type": "code",
      "metadata": {
        "id": "RwFt9oN9ZWEv",
        "colab_type": "code",
        "colab": {}
      },
      "source": [
        "History = History_saved"
      ],
      "execution_count": 0,
      "outputs": []
    },
    {
      "cell_type": "code",
      "metadata": {
        "id": "OoEUiDLNoo27",
        "colab_type": "code",
        "colab": {
          "base_uri": "https://localhost:8080/",
          "height": 305
        },
        "outputId": "71fa2d3c-27da-455f-bcca-9ed4461ff736"
      },
      "source": [
        "# plot metrics\n",
        "#plt.figure(figsize=[8,8])\n",
        "plt.plot(History.history['mean_squared_error'], label='mse')\n",
        "plt.plot(History.history['val_mean_squared_error'], label= 'validación_mse')\n",
        "plt.xlabel(\"epocas\",fontsize = 16)\n",
        "plt.ylabel(\"loss\",fontsize = 16)\n",
        "plt.legend(framealpha=1, frameon=True)"
      ],
      "execution_count": 25,
      "outputs": [
        {
          "output_type": "execute_result",
          "data": {
            "text/plain": [
              "<matplotlib.legend.Legend at 0x7f6ee6170940>"
            ]
          },
          "metadata": {
            "tags": []
          },
          "execution_count": 25
        },
        {
          "output_type": "display_data",
          "data": {
            "image/png": "[encoded data removed]",
            "text/plain": [
              "<Figure size 432x288 with 1 Axes>"
            ]
          },
          "metadata": {
            "tags": []
          }
        }
      ]
    },
    {
      "cell_type": "code",
      "metadata": {
        "id": "HQRKB-mKoop1",
        "colab_type": "code",
        "colab": {
          "base_uri": "https://localhost:8080/",
          "height": 301
        },
        "outputId": "4e558431-23fc-4b2b-d141-add0acfb8bd7"
      },
      "source": [
        "plt.plot(History.history['mean_absolute_error'], label='mae')\n",
        "plt.plot(History.history['val_mean_absolute_error'], label= 'validación_mae')\n",
        "plt.xlabel(\"epocas\",fontsize = 16)\n",
        "plt.ylabel(\"loss\",fontsize = 16)\n",
        "plt.legend(framealpha=1, frameon=True)"
      ],
      "execution_count": 26,
      "outputs": [
        {
          "output_type": "execute_result",
          "data": {
            "text/plain": [
              "<matplotlib.legend.Legend at 0x7f6ee60ddac8>"
            ]
          },
          "metadata": {
            "tags": []
          },
          "execution_count": 26
        },
        {
          "output_type": "display_data",
          "data": {
            "image/png": "[encoded data removed]",
            "text/plain": [
              "<Figure size 432x288 with 1 Axes>"
            ]
          },
          "metadata": {
            "tags": []
          }
        }
      ]
    },
    {
      "cell_type": "markdown",
      "metadata": {
        "id": "xyqHDtOWcwdu",
        "colab_type": "text"
      },
      "source": [
        ""
      ]
    },
    {
      "cell_type": "code",
      "metadata": {
        "id": "urp-emVdcxQZ",
        "colab_type": "code",
        "colab": {}
      },
      "source": [
        "#History.history['mean_absolute_percentage_error']"
      ],
      "execution_count": 0,
      "outputs": []
    },
    {
      "cell_type": "code",
      "metadata": {
        "id": "GdBVmd0bdWIA",
        "colab_type": "code",
        "colab": {}
      },
      "source": [
        ""
      ],
      "execution_count": 0,
      "outputs": []
    },
    {
      "cell_type": "code",
      "metadata": {
        "id": "eiTvZ52ioons",
        "colab_type": "code",
        "colab": {
          "base_uri": "https://localhost:8080/",
          "height": 301
        },
        "outputId": "d3338638-990d-4dbe-a35c-c8f759e19cc1"
      },
      "source": [
        "plt.plot(History.history['mean_absolute_percentage_error'], label= 'mape')\n",
        "plt.plot(History.history['val_mean_absolute_percentage_error'], label= 'validación_mape')\n",
        "plt.xlabel(\"epocas\",fontsize = 16)\n",
        "plt.ylabel(\"loss\",fontsize = 16)\n",
        "plt.legend(framealpha=1, frameon=True)"
      ],
      "execution_count": 28,
      "outputs": [
        {
          "output_type": "execute_result",
          "data": {
            "text/plain": [
              "<matplotlib.legend.Legend at 0x7f6ee60509e8>"
            ]
          },
          "metadata": {
            "tags": []
          },
          "execution_count": 28
        },
        {
          "output_type": "display_data",
          "data": {
            "image/png": "[encoded data removed]",
            "text/plain": [
              "<Figure size 432x288 with 1 Axes>"
            ]
          },
          "metadata": {
            "tags": []
          }
        }
      ]
    },
    {
      "cell_type": "code",
      "metadata": {
        "id": "aXpcgjxfooiB",
        "colab_type": "code",
        "colab": {
          "base_uri": "https://localhost:8080/",
          "height": 85
        },
        "outputId": "99e757bf-8bbb-4c9d-d2bc-09d108f39cbe"
      },
      "source": [
        "# predicciones de los valores de prueba\n",
        "prediccion_test = model.predict(testX)\n",
        "prediccion_test = scaler.inverse_transform(prediccion_test)\n",
        "#actuals = test_y\n",
        "valor_real_test = scaler.inverse_transform([testY])\n",
        "valor_real_test= valor_real_test.reshape(len(prediccion_test),1)\n",
        "#prediccion de los valores de entrenamiento\n",
        "aprendido=model.predict(trainX)\n",
        "aprendido_train=scaler.inverse_transform(aprendido)\n",
        "reales_train=scaler.inverse_transform([trainY])\n",
        "reales_train=scaler.inverse_transform([trainY])\n",
        "reales_train=reales_train.reshape(len(aprendido),1)\n",
        "###################################################\n",
        "mse_aprendido=mean_squared_error(reales_train,aprendido_train)\n",
        "mse_test=mean_squared_error(valor_real_test,prediccion_test)\n",
        "print('Train Mean square Error:', mse_aprendido)\n",
        "print('Test Mean square Error:', mse_test)\n",
        "#######################################################\n",
        "rmse_train=math.sqrt(mse_aprendido)\n",
        "rmse_test=math.sqrt(mse_test)\n",
        "print('Train Root Mean Squared Error:', rmse_train)\n",
        "print('Test Root Mean Squared Error:', rmse_test)\n"
      ],
      "execution_count": 29,
      "outputs": [
        {
          "output_type": "stream",
          "text": [
            "Train Mean square Error: 5.178140604866076\n",
            "Test Mean square Error: 7.988324789815459\n",
            "Train Root Mean Squared Error: 2.2755528130250187\n",
            "Test Root Mean Squared Error: 2.826362466106472\n"
          ],
          "name": "stdout"
        }
      ]
    },
    {
      "cell_type": "code",
      "metadata": {
        "id": "8TQVHJXMooTc",
        "colab_type": "code",
        "colab": {}
      },
      "source": [
        "def mean_absolute_percentage_error(y_true, y_pred): \n",
        "    y_true, y_pred = np.array(y_true), np.array(y_pred)\n",
        "    return np.mean(np.abs((y_true - y_pred) / y_true)) * 100"
      ],
      "execution_count": 0,
      "outputs": []
    },
    {
      "cell_type": "code",
      "metadata": {
        "id": "hz90rBo4ooQk",
        "colab_type": "code",
        "colab": {
          "base_uri": "https://localhost:8080/",
          "height": 88
        },
        "outputId": "0a310f95-f43d-4a27-cc76-468dd8b40012"
      },
      "source": [
        "#mape train\n",
        "mean_absolute_percentage_error(reales_train,aprendido_train)"
      ],
      "execution_count": 31,
      "outputs": [
        {
          "output_type": "stream",
          "text": [
            "/usr/local/lib/python3.6/dist-packages/ipykernel_launcher.py:3: RuntimeWarning: divide by zero encountered in true_divide\n",
            "  This is separate from the ipykernel package so we can avoid doing imports until\n"
          ],
          "name": "stderr"
        },
        {
          "output_type": "execute_result",
          "data": {
            "text/plain": [
              "inf"
            ]
          },
          "metadata": {
            "tags": []
          },
          "execution_count": 31
        }
      ]
    },
    {
      "cell_type": "code",
      "metadata": {
        "id": "2o-46s1GooMD",
        "colab_type": "code",
        "colab": {
          "base_uri": "https://localhost:8080/",
          "height": 88
        },
        "outputId": "73773a93-43bc-4ad1-ed83-f9984b231d7d"
      },
      "source": [
        "#mape test\n",
        "mean_absolute_percentage_error(valor_real_test,prediccion_test)"
      ],
      "execution_count": 32,
      "outputs": [
        {
          "output_type": "stream",
          "text": [
            "/usr/local/lib/python3.6/dist-packages/ipykernel_launcher.py:3: RuntimeWarning: divide by zero encountered in true_divide\n",
            "  This is separate from the ipykernel package so we can avoid doing imports until\n"
          ],
          "name": "stderr"
        },
        {
          "output_type": "execute_result",
          "data": {
            "text/plain": [
              "inf"
            ]
          },
          "metadata": {
            "tags": []
          },
          "execution_count": 32
        }
      ]
    },
    {
      "cell_type": "code",
      "metadata": {
        "id": "atqbuSa6ooJ8",
        "colab_type": "code",
        "colab": {}
      },
      "source": [
        "def smape(y_true, y_pred):\n",
        "    denominator = (np.abs(y_true) + np.abs(y_pred))\n",
        "    diff = np.abs(y_true - y_pred) / denominator\n",
        "    diff[denominator == 0] = 0.0\n",
        "    return 200 * np.mean(diff)"
      ],
      "execution_count": 0,
      "outputs": []
    },
    {
      "cell_type": "code",
      "metadata": {
        "id": "PoJv7ITIooEd",
        "colab_type": "code",
        "colab": {
          "base_uri": "https://localhost:8080/",
          "height": 34
        },
        "outputId": "d4c3ef5f-00b5-40ac-a816-6376fa3011f5"
      },
      "source": [
        "smape(reales_train,aprendido_train)"
      ],
      "execution_count": 34,
      "outputs": [
        {
          "output_type": "execute_result",
          "data": {
            "text/plain": [
              "7.552851734724843"
            ]
          },
          "metadata": {
            "tags": []
          },
          "execution_count": 34
        }
      ]
    },
    {
      "cell_type": "code",
      "metadata": {
        "id": "tn9nKIIDooBS",
        "colab_type": "code",
        "colab": {
          "base_uri": "https://localhost:8080/",
          "height": 34
        },
        "outputId": "1c4592fa-f365-40d0-f61d-cbdeacfa172a"
      },
      "source": [
        "smape(valor_real_test,prediccion_test)"
      ],
      "execution_count": 35,
      "outputs": [
        {
          "output_type": "execute_result",
          "data": {
            "text/plain": [
              "9.215270121623659"
            ]
          },
          "metadata": {
            "tags": []
          },
          "execution_count": 35
        }
      ]
    },
    {
      "cell_type": "code",
      "metadata": {
        "id": "AE3GYif3on9c",
        "colab_type": "code",
        "colab": {
          "base_uri": "https://localhost:8080/",
          "height": 740
        },
        "outputId": "5f07dea1-69d4-4398-9ab1-04137c2111c6"
      },
      "source": [
        "# plot entrenamiento\n",
        "plt.figure(figsize=[12,12])\n",
        "plt.plot(reales_train, label='Datos reales')\n",
        "plt.plot(aprendido_train, label= 'predicciones aprendido')\n",
        "plt.xlabel(\"muestras\",fontsize = 20)\n",
        "plt.ylabel(\"Potencia\",fontsize = 20)\n",
        "plt.legend(framealpha=1, frameon=True, loc='upper right')"
      ],
      "execution_count": 36,
      "outputs": [
        {
          "output_type": "execute_result",
          "data": {
            "text/plain": [
              "<matplotlib.legend.Legend at 0x7f6ee5faafd0>"
            ]
          },
          "metadata": {
            "tags": []
          },
          "execution_count": 36
        },
        {
          "output_type": "display_data",
          "data": {
            "image/png": "[encoded data removed]",
            "text/plain": [
              "<Figure size 864x864 with 1 Axes>"
            ]
          },
          "metadata": {
            "tags": []
          }
        }
      ]
    },
    {
      "cell_type": "code",
      "metadata": {
        "id": "0mF-2Qubon7M",
        "colab_type": "code",
        "colab": {
          "base_uri": "https://localhost:8080/",
          "height": 740
        },
        "outputId": "96a37da7-a94e-4ad1-8ea9-df6c146271e8"
      },
      "source": [
        "# plot test\n",
        "plt.figure(figsize=[12,12])\n",
        "plt.plot(valor_real_test, label='Datos reales')\n",
        "plt.plot(prediccion_test , label= 'predicciones test')\n",
        "plt.xlabel(\"muestras\",fontsize = 20)\n",
        "plt.ylabel(\"Potencia\",fontsize = 20)\n",
        "plt.legend(framealpha=1, frameon=True, loc='upper right')"
      ],
      "execution_count": 37,
      "outputs": [
        {
          "output_type": "execute_result",
          "data": {
            "text/plain": [
              "<matplotlib.legend.Legend at 0x7f6ee5ffc7f0>"
            ]
          },
          "metadata": {
            "tags": []
          },
          "execution_count": 37
        },
        {
          "output_type": "display_data",
          "data": {
            "image/png": "[encoded data removed]",
            "text/plain": [
              "<Figure size 864x864 with 1 Axes>"
            ]
          },
          "metadata": {
            "tags": []
          }
        }
      ]
    },
    {
      "cell_type": "code",
      "metadata": {
        "id": "55MzX_ZFon5I",
        "colab_type": "code",
        "colab": {
          "base_uri": "https://localhost:8080/",
          "height": 473
        },
        "outputId": "ef83e22b-ea3d-4b28-c72e-1c7307125bfd"
      },
      "source": [
        "acc = abs(prediccion_test-valor_real_test)\n",
        "porc_error = (acc / abs(valor_real_test)) * 100\n",
        "mostrar = valor_real_test, prediccion_test, acc, porc_error\n",
        "Tabla_arr = np.array(mostrar)\n",
        "Tabla = np.transpose(Tabla_arr)\n",
        "Tabla=Tabla.reshape(len(acc), -1)\n",
        "Tabla_df = pd.DataFrame(Tabla, columns=['Datos predichos','Datos reales','Error','Error porcentual'])\n",
        "Tabla_df"
      ],
      "execution_count": 38,
      "outputs": [
        {
          "output_type": "stream",
          "text": [
            "/usr/local/lib/python3.6/dist-packages/ipykernel_launcher.py:2: RuntimeWarning: divide by zero encountered in true_divide\n",
            "  \n"
          ],
          "name": "stderr"
        },
        {
          "output_type": "execute_result",
          "data": {
            "text/html": [
              "<div>\n",
              "<style scoped>\n",
              "    .dataframe tbody tr th:only-of-type {\n",
              "        vertical-align: middle;\n",
              "    }\n",
              "\n",
              "    .dataframe tbody tr th {\n",
              "        vertical-align: top;\n",
              "    }\n",
              "\n",
              "    .dataframe thead th {\n",
              "        text-align: right;\n",
              "    }\n",
              "</style>\n",
              "<table border=\"1\" class=\"dataframe\">\n",
              "  <thead>\n",
              "    <tr style=\"text-align: right;\">\n",
              "      <th></th>\n",
              "      <th>Datos predichos</th>\n",
              "      <th>Datos reales</th>\n",
              "      <th>Error</th>\n",
              "      <th>Error porcentual</th>\n",
              "    </tr>\n",
              "  </thead>\n",
              "  <tbody>\n",
              "    <tr>\n",
              "      <th>0</th>\n",
              "      <td>-21.70</td>\n",
              "      <td>-20.743134</td>\n",
              "      <td>0.956866</td>\n",
              "      <td>4.409523</td>\n",
              "    </tr>\n",
              "    <tr>\n",
              "      <th>1</th>\n",
              "      <td>-21.84</td>\n",
              "      <td>-20.993906</td>\n",
              "      <td>0.846094</td>\n",
              "      <td>3.874057</td>\n",
              "    </tr>\n",
              "    <tr>\n",
              "      <th>2</th>\n",
              "      <td>-20.81</td>\n",
              "      <td>-20.853708</td>\n",
              "      <td>0.043708</td>\n",
              "      <td>0.210035</td>\n",
              "    </tr>\n",
              "    <tr>\n",
              "      <th>3</th>\n",
              "      <td>-20.22</td>\n",
              "      <td>-20.123583</td>\n",
              "      <td>0.096417</td>\n",
              "      <td>0.476841</td>\n",
              "    </tr>\n",
              "    <tr>\n",
              "      <th>4</th>\n",
              "      <td>-20.81</td>\n",
              "      <td>-19.890408</td>\n",
              "      <td>0.919592</td>\n",
              "      <td>4.418993</td>\n",
              "    </tr>\n",
              "    <tr>\n",
              "      <th>...</th>\n",
              "      <td>...</td>\n",
              "      <td>...</td>\n",
              "      <td>...</td>\n",
              "      <td>...</td>\n",
              "    </tr>\n",
              "    <tr>\n",
              "      <th>42040</th>\n",
              "      <td>-29.52</td>\n",
              "      <td>-21.183548</td>\n",
              "      <td>8.336452</td>\n",
              "      <td>28.240014</td>\n",
              "    </tr>\n",
              "    <tr>\n",
              "      <th>42041</th>\n",
              "      <td>-19.93</td>\n",
              "      <td>-21.561813</td>\n",
              "      <td>1.631813</td>\n",
              "      <td>8.187724</td>\n",
              "    </tr>\n",
              "    <tr>\n",
              "      <th>42042</th>\n",
              "      <td>-14.02</td>\n",
              "      <td>-16.862640</td>\n",
              "      <td>2.842640</td>\n",
              "      <td>20.275609</td>\n",
              "    </tr>\n",
              "    <tr>\n",
              "      <th>42043</th>\n",
              "      <td>-13.58</td>\n",
              "      <td>-14.435542</td>\n",
              "      <td>0.855542</td>\n",
              "      <td>6.300016</td>\n",
              "    </tr>\n",
              "    <tr>\n",
              "      <th>42044</th>\n",
              "      <td>-27.60</td>\n",
              "      <td>-16.469439</td>\n",
              "      <td>11.130561</td>\n",
              "      <td>40.328121</td>\n",
              "    </tr>\n",
              "  </tbody>\n",
              "</table>\n",
              "<p>42045 rows × 4 columns</p>\n",
              "</div>"
            ],
            "text/plain": [
              "       Datos predichos  Datos reales      Error  Error porcentual\n",
              "0               -21.70    -20.743134   0.956866          4.409523\n",
              "1               -21.84    -20.993906   0.846094          3.874057\n",
              "2               -20.81    -20.853708   0.043708          0.210035\n",
              "3               -20.22    -20.123583   0.096417          0.476841\n",
              "4               -20.81    -19.890408   0.919592          4.418993\n",
              "...                ...           ...        ...               ...\n",
              "42040           -29.52    -21.183548   8.336452         28.240014\n",
              "42041           -19.93    -21.561813   1.631813          8.187724\n",
              "42042           -14.02    -16.862640   2.842640         20.275609\n",
              "42043           -13.58    -14.435542   0.855542          6.300016\n",
              "42044           -27.60    -16.469439  11.130561         40.328121\n",
              "\n",
              "[42045 rows x 4 columns]"
            ]
          },
          "metadata": {
            "tags": []
          },
          "execution_count": 38
        }
      ]
    },
    {
      "cell_type": "code",
      "metadata": {
        "id": "yoBQ3peNr6zV",
        "colab_type": "code",
        "colab": {}
      },
      "source": [
        "import seaborn as sns"
      ],
      "execution_count": 0,
      "outputs": []
    },
    {
      "cell_type": "code",
      "metadata": {
        "id": "pYTVse0hsFA-",
        "colab_type": "code",
        "colab": {}
      },
      "source": [
        "aprendido_red=aprendido_train[:,0]\n",
        "rial=reales_train[:,0]\n",
        "testing=valor_real_test[:,0]\n",
        "prediccion=prediccion_test[:,0]"
      ],
      "execution_count": 0,
      "outputs": []
    },
    {
      "cell_type": "code",
      "metadata": {
        "id": "VoJ57gYAon1O",
        "colab_type": "code",
        "colab": {
          "base_uri": "https://localhost:8080/",
          "height": 282
        },
        "outputId": "d016826f-1254-420e-f676-daedbc3d3383"
      },
      "source": [
        "sns.kdeplot(aprendido_red, cumulative=True)\n",
        "sns.kdeplot(rial, cumulative=True)"
      ],
      "execution_count": 41,
      "outputs": [
        {
          "output_type": "execute_result",
          "data": {
            "text/plain": [
              "<matplotlib.axes._subplots.AxesSubplot at 0x7f6ee3b11ba8>"
            ]
          },
          "metadata": {
            "tags": []
          },
          "execution_count": 41
        },
        {
          "output_type": "display_data",
          "data": {
            "image/png": "[encoded data removed]",
            "text/plain": [
              "<Figure size 432x288 with 1 Axes>"
            ]
          },
          "metadata": {
            "tags": []
          }
        }
      ]
    },
    {
      "cell_type": "code",
      "metadata": {
        "id": "-zHPbGS8onZ2",
        "colab_type": "code",
        "colab": {
          "base_uri": "https://localhost:8080/",
          "height": 282
        },
        "outputId": "fce59d77-3daf-4f06-861d-978de96a49df"
      },
      "source": [
        "sns.kdeplot(testing, cumulative=True)\n",
        "sns.kdeplot(prediccion, cumulative=True)"
      ],
      "execution_count": 42,
      "outputs": [
        {
          "output_type": "execute_result",
          "data": {
            "text/plain": [
              "<matplotlib.axes._subplots.AxesSubplot at 0x7f6ee3a882e8>"
            ]
          },
          "metadata": {
            "tags": []
          },
          "execution_count": 42
        },
        {
          "output_type": "display_data",
          "data": {
            "image/png": "[encoded data removed]",
            "text/plain": [
              "<Figure size 432x288 with 1 Axes>"
            ]
          },
          "metadata": {
            "tags": []
          }
        }
      ]
    },
    {
      "cell_type": "code",
      "metadata": {
        "id": "eKaLwUveonU0",
        "colab_type": "code",
        "colab": {
          "base_uri": "https://localhost:8080/",
          "height": 282
        },
        "outputId": "3c4f21f5-df15-4e6a-d595-0cf27e38e76a"
      },
      "source": [
        "err=prediccion_test-valor_real_test\n",
        "err_1=err[:,0]\n",
        "sns.kdeplot(err_1, cumulative=True)"
      ],
      "execution_count": 43,
      "outputs": [
        {
          "output_type": "execute_result",
          "data": {
            "text/plain": [
              "<matplotlib.axes._subplots.AxesSubplot at 0x7f6ee39eb0b8>"
            ]
          },
          "metadata": {
            "tags": []
          },
          "execution_count": 43
        },
        {
          "output_type": "display_data",
          "data": {
            "image/png": "[encoded data removed]",
            "text/plain": [
              "<Figure size 432x288 with 1 Axes>"
            ]
          },
          "metadata": {
            "tags": []
          }
        }
      ]
    },
    {
      "cell_type": "code",
      "metadata": {
        "id": "DrRm0m7sonSu",
        "colab_type": "code",
        "colab": {}
      },
      "source": [
        ""
      ],
      "execution_count": 0,
      "outputs": []
    },
    {
      "cell_type": "code",
      "metadata": {
        "id": "ajCs0w-_onOx",
        "colab_type": "code",
        "colab": {}
      },
      "source": [
        "# shift train predictions for plotting\n",
        "trainPredictPlot = np.empty_like(POT2)\n",
        "trainPredictPlot[:, :] = np.nan\n",
        "trainPredictPlot[look_back:len(trainPredict)+look_back, :] = trainPredict\n",
        "# shift test predictions for plotting\n",
        "testPredictPlot = np.empty_like(POT2)\n",
        "testPredictPlot[:, :] = np.nan\n",
        "testPredictPlot[len(trainPredict)+(look_back*2)+1:len(POT2)-1, :] = testPredict\n",
        "# plot baseline and predictions\n",
        "plt.figure(figsize=[12,12])\n",
        "plt.plot((POT))\n",
        "plt.plot(trainPredictPlot, color=\"red\", )\n",
        "plt.xlabel(\"muestras\",fontsize = 20)\n",
        "plt.ylabel(\"Potencia\",fontsize = 20)\n",
        "plt.plot(testPredictPlot, color=\"green\")\n",
        "plt.title(\"Predicciones de lo aprendido en rojo y verde en prueba\", fontsize = 20)\n",
        "plt.grid()\n",
        "plt.show()"
      ],
      "execution_count": 0,
      "outputs": []
    },
    {
      "cell_type": "code",
      "metadata": {
        "id": "XKqrsC76onMn",
        "colab_type": "code",
        "colab": {}
      },
      "source": [
        ""
      ],
      "execution_count": 0,
      "outputs": []
    },
    {
      "cell_type": "code",
      "metadata": {
        "id": "cifCNLRponI8",
        "colab_type": "code",
        "colab": {}
      },
      "source": [
        ""
      ],
      "execution_count": 0,
      "outputs": []
    },
    {
      "cell_type": "code",
      "metadata": {
        "id": "k7H7PpFuoms6",
        "colab_type": "code",
        "colab": {}
      },
      "source": [
        ""
      ],
      "execution_count": 0,
      "outputs": []
    },
    {
      "cell_type": "code",
      "metadata": {
        "id": "aODDdv2XomqI",
        "colab_type": "code",
        "colab": {}
      },
      "source": [
        ""
      ],
      "execution_count": 0,
      "outputs": []
    },
    {
      "cell_type": "code",
      "metadata": {
        "id": "UKWOvK2eommH",
        "colab_type": "code",
        "colab": {}
      },
      "source": [
        ""
      ],
      "execution_count": 0,
      "outputs": []
    },
    {
      "cell_type": "code",
      "metadata": {
        "id": "ox-qDULBomjn",
        "colab_type": "code",
        "colab": {}
      },
      "source": [
        ""
      ],
      "execution_count": 0,
      "outputs": []
    },
    {
      "cell_type": "code",
      "metadata": {
        "id": "_7vyX4BQomgG",
        "colab_type": "code",
        "colab": {}
      },
      "source": [
        ""
      ],
      "execution_count": 0,
      "outputs": []
    },
    {
      "cell_type": "code",
      "metadata": {
        "id": "Vwmk6AXPomd_",
        "colab_type": "code",
        "colab": {}
      },
      "source": [
        ""
      ],
      "execution_count": 0,
      "outputs": []
    },
    {
      "cell_type": "code",
      "metadata": {
        "id": "KzoiZmdUomaG",
        "colab_type": "code",
        "colab": {}
      },
      "source": [
        ""
      ],
      "execution_count": 0,
      "outputs": []
    },
    {
      "cell_type": "code",
      "metadata": {
        "id": "lVOy2ksBomWX",
        "colab_type": "code",
        "colab": {}
      },
      "source": [
        ""
      ],
      "execution_count": 0,
      "outputs": []
    },
    {
      "cell_type": "code",
      "metadata": {
        "id": "rFQhk4i_omTv",
        "colab_type": "code",
        "colab": {}
      },
      "source": [
        ""
      ],
      "execution_count": 0,
      "outputs": []
    },
    {
      "cell_type": "code",
      "metadata": {
        "id": "CZzRaYxyomP1",
        "colab_type": "code",
        "colab": {}
      },
      "source": [
        ""
      ],
      "execution_count": 0,
      "outputs": []
    },
    {
      "cell_type": "code",
      "metadata": {
        "id": "bRlMNb11omNd",
        "colab_type": "code",
        "colab": {}
      },
      "source": [
        ""
      ],
      "execution_count": 0,
      "outputs": []
    },
    {
      "cell_type": "code",
      "metadata": {
        "id": "dwX93b6oomJ2",
        "colab_type": "code",
        "colab": {}
      },
      "source": [
        ""
      ],
      "execution_count": 0,
      "outputs": []
    },
    {
      "cell_type": "code",
      "metadata": {
        "id": "NBtA5AFmomHZ",
        "colab_type": "code",
        "colab": {}
      },
      "source": [
        ""
      ],
      "execution_count": 0,
      "outputs": []
    },
    {
      "cell_type": "code",
      "metadata": {
        "id": "HsNs9NpromDE",
        "colab_type": "code",
        "colab": {}
      },
      "source": [
        ""
      ],
      "execution_count": 0,
      "outputs": []
    },
    {
      "cell_type": "code",
      "metadata": {
        "id": "SPyr07qZol-2",
        "colab_type": "code",
        "colab": {}
      },
      "source": [
        ""
      ],
      "execution_count": 0,
      "outputs": []
    },
    {
      "cell_type": "code",
      "metadata": {
        "id": "2jRm4rONol8E",
        "colab_type": "code",
        "colab": {}
      },
      "source": [
        ""
      ],
      "execution_count": 0,
      "outputs": []
    },
    {
      "cell_type": "code",
      "metadata": {
        "id": "IxnQZimpol4d",
        "colab_type": "code",
        "colab": {}
      },
      "source": [
        ""
      ],
      "execution_count": 0,
      "outputs": []
    },
    {
      "cell_type": "code",
      "metadata": {
        "id": "hRjJ-6Ptol2u",
        "colab_type": "code",
        "colab": {}
      },
      "source": [
        ""
      ],
      "execution_count": 0,
      "outputs": []
    },
    {
      "cell_type": "code",
      "metadata": {
        "id": "V8BqhMa9olzK",
        "colab_type": "code",
        "colab": {}
      },
      "source": [
        ""
      ],
      "execution_count": 0,
      "outputs": []
    },
    {
      "cell_type": "code",
      "metadata": {
        "id": "yGBL7Jtpolvt",
        "colab_type": "code",
        "colab": {}
      },
      "source": [
        ""
      ],
      "execution_count": 0,
      "outputs": []
    },
    {
      "cell_type": "code",
      "metadata": {
        "id": "M7W4sFEJoltV",
        "colab_type": "code",
        "colab": {}
      },
      "source": [
        ""
      ],
      "execution_count": 0,
      "outputs": []
    },
    {
      "cell_type": "code",
      "metadata": {
        "id": "Wtjf55leolp_",
        "colab_type": "code",
        "colab": {}
      },
      "source": [
        ""
      ],
      "execution_count": 0,
      "outputs": []
    },
    {
      "cell_type": "code",
      "metadata": {
        "id": "ekI_lj17oll3",
        "colab_type": "code",
        "colab": {}
      },
      "source": [
        ""
      ],
      "execution_count": 0,
      "outputs": []
    },
    {
      "cell_type": "code",
      "metadata": {
        "id": "MsLfU0PBoliz",
        "colab_type": "code",
        "colab": {}
      },
      "source": [
        ""
      ],
      "execution_count": 0,
      "outputs": []
    },
    {
      "cell_type": "code",
      "metadata": {
        "id": "o3KYRDciolg_",
        "colab_type": "code",
        "colab": {}
      },
      "source": [
        ""
      ],
      "execution_count": 0,
      "outputs": []
    },
    {
      "cell_type": "code",
      "metadata": {
        "id": "-Cdef4u6olfT",
        "colab_type": "code",
        "colab": {}
      },
      "source": [
        ""
      ],
      "execution_count": 0,
      "outputs": []
    },
    {
      "cell_type": "code",
      "metadata": {
        "id": "q2EnLajHoldi",
        "colab_type": "code",
        "colab": {}
      },
      "source": [
        ""
      ],
      "execution_count": 0,
      "outputs": []
    },
    {
      "cell_type": "code",
      "metadata": {
        "id": "sItJA_Hcolbs",
        "colab_type": "code",
        "colab": {}
      },
      "source": [
        ""
      ],
      "execution_count": 0,
      "outputs": []
    },
    {
      "cell_type": "code",
      "metadata": {
        "id": "3sx_nVkrolaJ",
        "colab_type": "code",
        "colab": {}
      },
      "source": [
        ""
      ],
      "execution_count": 0,
      "outputs": []
    },
    {
      "cell_type": "code",
      "metadata": {
        "id": "yO78GpB_olYU",
        "colab_type": "code",
        "colab": {}
      },
      "source": [
        ""
      ],
      "execution_count": 0,
      "outputs": []
    },
    {
      "cell_type": "code",
      "metadata": {
        "id": "es5QzrB3olUY",
        "colab_type": "code",
        "colab": {}
      },
      "source": [
        ""
      ],
      "execution_count": 0,
      "outputs": []
    },
    {
      "cell_type": "code",
      "metadata": {
        "id": "270nkxvVolSH",
        "colab_type": "code",
        "colab": {}
      },
      "source": [
        ""
      ],
      "execution_count": 0,
      "outputs": []
    },
    {
      "cell_type": "code",
      "metadata": {
        "id": "5-_Cb17IolO4",
        "colab_type": "code",
        "colab": {}
      },
      "source": [
        ""
      ],
      "execution_count": 0,
      "outputs": []
    },
    {
      "cell_type": "code",
      "metadata": {
        "id": "kzJ3Fzf-olMG",
        "colab_type": "code",
        "colab": {}
      },
      "source": [
        ""
      ],
      "execution_count": 0,
      "outputs": []
    },
    {
      "cell_type": "code",
      "metadata": {
        "id": "gH4G9Wl3olEc",
        "colab_type": "code",
        "colab": {}
      },
      "source": [
        ""
      ],
      "execution_count": 0,
      "outputs": []
    },
    {
      "cell_type": "code",
      "metadata": {
        "id": "I_T4IrO0olBV",
        "colab_type": "code",
        "colab": {}
      },
      "source": [
        ""
      ],
      "execution_count": 0,
      "outputs": []
    },
    {
      "cell_type": "code",
      "metadata": {
        "id": "2OjrKdwnok_T",
        "colab_type": "code",
        "colab": {}
      },
      "source": [
        ""
      ],
      "execution_count": 0,
      "outputs": []
    },
    {
      "cell_type": "code",
      "metadata": {
        "id": "QMSLog0mok74",
        "colab_type": "code",
        "colab": {}
      },
      "source": [
        ""
      ],
      "execution_count": 0,
      "outputs": []
    },
    {
      "cell_type": "code",
      "metadata": {
        "id": "Yw1PIAuAok5N",
        "colab_type": "code",
        "colab": {}
      },
      "source": [
        ""
      ],
      "execution_count": 0,
      "outputs": []
    },
    {
      "cell_type": "code",
      "metadata": {
        "id": "Cthf1Oflok2C",
        "colab_type": "code",
        "colab": {}
      },
      "source": [
        ""
      ],
      "execution_count": 0,
      "outputs": []
    },
    {
      "cell_type": "code",
      "metadata": {
        "id": "6IY2WmorokzB",
        "colab_type": "code",
        "colab": {}
      },
      "source": [
        ""
      ],
      "execution_count": 0,
      "outputs": []
    },
    {
      "cell_type": "code",
      "metadata": {
        "id": "e8uKzNODoktj",
        "colab_type": "code",
        "colab": {}
      },
      "source": [
        ""
      ],
      "execution_count": 0,
      "outputs": []
    },
    {
      "cell_type": "code",
      "metadata": {
        "id": "lNDQbtPyokr_",
        "colab_type": "code",
        "colab": {}
      },
      "source": [
        ""
      ],
      "execution_count": 0,
      "outputs": []
    },
    {
      "cell_type": "code",
      "metadata": {
        "id": "MLQPcaVhoko_",
        "colab_type": "code",
        "colab": {}
      },
      "source": [
        ""
      ],
      "execution_count": 0,
      "outputs": []
    },
    {
      "cell_type": "code",
      "metadata": {
        "id": "wA1KAgT8oknf",
        "colab_type": "code",
        "colab": {}
      },
      "source": [
        ""
      ],
      "execution_count": 0,
      "outputs": []
    },
    {
      "cell_type": "code",
      "metadata": {
        "id": "rRtLp5cbokl5",
        "colab_type": "code",
        "colab": {}
      },
      "source": [
        ""
      ],
      "execution_count": 0,
      "outputs": []
    },
    {
      "cell_type": "code",
      "metadata": {
        "id": "YYYw2ZNsokjF",
        "colab_type": "code",
        "colab": {}
      },
      "source": [
        ""
      ],
      "execution_count": 0,
      "outputs": []
    },
    {
      "cell_type": "code",
      "metadata": {
        "id": "TyacLL7Yokh0",
        "colab_type": "code",
        "colab": {}
      },
      "source": [
        ""
      ],
      "execution_count": 0,
      "outputs": []
    },
    {
      "cell_type": "code",
      "metadata": {
        "id": "lhMLyIv8okgo",
        "colab_type": "code",
        "colab": {}
      },
      "source": [
        ""
      ],
      "execution_count": 0,
      "outputs": []
    },
    {
      "cell_type": "code",
      "metadata": {
        "id": "Km2TUzehokem",
        "colab_type": "code",
        "colab": {}
      },
      "source": [
        ""
      ],
      "execution_count": 0,
      "outputs": []
    },
    {
      "cell_type": "code",
      "metadata": {
        "id": "FhLbkzxGokbe",
        "colab_type": "code",
        "colab": {}
      },
      "source": [
        ""
      ],
      "execution_count": 0,
      "outputs": []
    },
    {
      "cell_type": "code",
      "metadata": {
        "id": "Lo_jBGu_okY-",
        "colab_type": "code",
        "colab": {}
      },
      "source": [
        ""
      ],
      "execution_count": 0,
      "outputs": []
    },
    {
      "cell_type": "code",
      "metadata": {
        "id": "qXmLcoyTokRY",
        "colab_type": "code",
        "colab": {}
      },
      "source": [
        ""
      ],
      "execution_count": 0,
      "outputs": []
    },
    {
      "cell_type": "code",
      "metadata": {
        "id": "wWk9DdmgokOq",
        "colab_type": "code",
        "colab": {}
      },
      "source": [
        ""
      ],
      "execution_count": 0,
      "outputs": []
    },
    {
      "cell_type": "code",
      "metadata": {
        "id": "Y7U4NlYtokNK",
        "colab_type": "code",
        "colab": {}
      },
      "source": [
        ""
      ],
      "execution_count": 0,
      "outputs": []
    },
    {
      "cell_type": "code",
      "metadata": {
        "id": "Wrgdx_PnokLq",
        "colab_type": "code",
        "colab": {}
      },
      "source": [
        ""
      ],
      "execution_count": 0,
      "outputs": []
    },
    {
      "cell_type": "code",
      "metadata": {
        "id": "5Ul-S1QJokKG",
        "colab_type": "code",
        "colab": {}
      },
      "source": [
        ""
      ],
      "execution_count": 0,
      "outputs": []
    },
    {
      "cell_type": "code",
      "metadata": {
        "id": "Hso1jtA0okIl",
        "colab_type": "code",
        "colab": {}
      },
      "source": [
        ""
      ],
      "execution_count": 0,
      "outputs": []
    },
    {
      "cell_type": "code",
      "metadata": {
        "id": "aBXCdQWYokHC",
        "colab_type": "code",
        "colab": {}
      },
      "source": [
        ""
      ],
      "execution_count": 0,
      "outputs": []
    },
    {
      "cell_type": "code",
      "metadata": {
        "id": "yqZG6OgjokFW",
        "colab_type": "code",
        "colab": {}
      },
      "source": [
        ""
      ],
      "execution_count": 0,
      "outputs": []
    },
    {
      "cell_type": "code",
      "metadata": {
        "id": "ADHyYWvjokDs",
        "colab_type": "code",
        "colab": {}
      },
      "source": [
        ""
      ],
      "execution_count": 0,
      "outputs": []
    },
    {
      "cell_type": "code",
      "metadata": {
        "id": "_-orYQlkokCD",
        "colab_type": "code",
        "colab": {}
      },
      "source": [
        ""
      ],
      "execution_count": 0,
      "outputs": []
    },
    {
      "cell_type": "code",
      "metadata": {
        "id": "dL4XBCR_okAK",
        "colab_type": "code",
        "colab": {}
      },
      "source": [
        ""
      ],
      "execution_count": 0,
      "outputs": []
    },
    {
      "cell_type": "code",
      "metadata": {
        "id": "5jErYloToj9m",
        "colab_type": "code",
        "colab": {}
      },
      "source": [
        ""
      ],
      "execution_count": 0,
      "outputs": []
    },
    {
      "cell_type": "code",
      "metadata": {
        "id": "CHYCfIRhoj6z",
        "colab_type": "code",
        "colab": {}
      },
      "source": [
        ""
      ],
      "execution_count": 0,
      "outputs": []
    },
    {
      "cell_type": "code",
      "metadata": {
        "id": "RQPOgo3goj4y",
        "colab_type": "code",
        "colab": {}
      },
      "source": [
        ""
      ],
      "execution_count": 0,
      "outputs": []
    },
    {
      "cell_type": "code",
      "metadata": {
        "id": "KoG99w_Ooj1D",
        "colab_type": "code",
        "colab": {}
      },
      "source": [
        ""
      ],
      "execution_count": 0,
      "outputs": []
    }
  ]
}