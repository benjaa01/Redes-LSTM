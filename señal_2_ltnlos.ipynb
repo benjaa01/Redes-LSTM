{
  "nbformat": 4,
  "nbformat_minor": 0,
  "metadata": {
    "colab": {
      "name": "señal 2 ltnlos.ipynb",
      "provenance": [],
      "collapsed_sections": [],
      "toc_visible": true
    },
    "kernelspec": {
      "name": "python3",
      "display_name": "Python 3"
    },
    "accelerator": "GPU"
  },
  "cells": [
    {
      "cell_type": "code",
      "metadata": {
        "id": "16BbQtJLKU8m",
        "colab_type": "code",
        "colab": {}
      },
      "source": [
        ""
      ],
      "execution_count": 0,
      "outputs": []
    },
    {
      "cell_type": "code",
      "metadata": {
        "id": "HGZ_fZHURJOj",
        "colab_type": "code",
        "outputId": "b4a1729c-ccb1-4116-aebd-e035bb43b32a",
        "colab": {
          "base_uri": "https://localhost:8080/",
          "height": 54
        }
      },
      "source": [
        "from google.colab import drive\n",
        "drive.mount('/content/drive')"
      ],
      "execution_count": 1,
      "outputs": [
        {
          "output_type": "stream",
          "text": [
            "Drive already mounted at /content/drive; to attempt to forcibly remount, call drive.mount(\"/content/drive\", force_remount=True).\n"
          ],
          "name": "stdout"
        }
      ]
    },
    {
      "cell_type": "code",
      "metadata": {
        "id": "co-ZU3mFoYzc",
        "colab_type": "code",
        "outputId": "77cfd8e3-4d88-4d82-cd66-9d2ea12a795f",
        "colab": {
          "base_uri": "https://localhost:8080/",
          "height": 97
        }
      },
      "source": [
        "import time\n",
        "#A continuación se importan laas librerias necesarias para el entrenamiento de la red \n",
        "import numpy as np\n",
        "import matplotlib.pyplot as plt\n",
        "import pandas as pd\n",
        "import math\n",
        "from tensorflow import keras\n",
        "from sklearn.preprocessing import MinMaxScaler\n",
        "from keras.models import Sequential\n",
        "from keras.layers import Dense\n",
        "from keras.layers import Dropout\n",
        "from keras.layers import LSTM\n",
        "from keras.layers import Activation\n",
        "from sklearn.metrics import mean_squared_error\n",
        "from sklearn.metrics import mean_absolute_error\n",
        "from keras.layers import ConvLSTM2D\n",
        "from keras.layers import Flatten\n"
      ],
      "execution_count": 2,
      "outputs": [
        {
          "output_type": "display_data",
          "data": {
            "text/html": [
              "<p style=\"color: red;\">\n",
              "The default version of TensorFlow in Colab will soon switch to TensorFlow 2.x.<br>\n",
              "We recommend you <a href=\"https://www.tensorflow.org/guide/migrate\" target=\"_blank\">upgrade</a> now \n",
              "or ensure your notebook will continue to use TensorFlow 1.x via the <code>%tensorflow_version 1.x</code> magic:\n",
              "<a href=\"https://colab.research.google.com/notebooks/tensorflow_version.ipynb\" target=\"_blank\">more info</a>.</p>\n"
            ],
            "text/plain": [
              "<IPython.core.display.HTML object>"
            ]
          },
          "metadata": {
            "tags": []
          }
        },
        {
          "output_type": "stream",
          "text": [
            "Using TensorFlow backend.\n"
          ],
          "name": "stderr"
        }
      ]
    },
    {
      "cell_type": "code",
      "metadata": {
        "id": "uENr7cEyopSr",
        "colab_type": "code",
        "outputId": "70aa5911-d1e1-41e6-f313-407680e0fdd8",
        "colab": {
          "base_uri": "https://localhost:8080/",
          "height": 670
        }
      },
      "source": [
        "dataframe = pd.read_csv('/content/drive/My Drive/LSTM /Mediciones en csv/LTNLOS CSV/potencia 2000-01-30 20_3A45_3A47 Antenna Horn Time 300[s] SwitchingBy 0 Horn 0 Omni 0 FIN_010.csv', header=None )\n",
        "#llevar al dataframe a un arreglo de valores\n",
        "dataset = dataframe.values\n",
        "#dataset solo para la funcion senoidal\n",
        "POT = dataset[0:len(dataset),1]\n",
        "#POT = dataset\n",
        "print(POT.shape)\n",
        "plt.figure(figsize=[12,10])\n",
        "plt.grid()\n",
        "plt.plot(POT)\n",
        "plt.xlabel(\"muestras\",fontsize = 20)\n",
        "plt.ylabel(\"Potencia\",fontsize = 20)\n",
        "plt.title(\"Datos reales\", fontsize = 20)"
      ],
      "execution_count": 3,
      "outputs": [
        {
          "output_type": "stream",
          "text": [
            "(210865,)\n"
          ],
          "name": "stdout"
        },
        {
          "output_type": "execute_result",
          "data": {
            "text/plain": [
              "Text(0.5, 1.0, 'Datos reales')"
            ]
          },
          "metadata": {
            "tags": []
          },
          "execution_count": 3
        },
        {
          "output_type": "display_data",
          "data": {
            "image/png": "[encoded data removed]",
            "text/plain": [
              "<Figure size 864x720 with 1 Axes>"
            ]
          },
          "metadata": {
            "tags": []
          }
        }
      ]
    },
    {
      "cell_type": "markdown",
      "metadata": {
        "id": "PH0GwKKdSS0K",
        "colab_type": "text"
      },
      "source": [
        "# Nueva sección"
      ]
    },
    {
      "cell_type": "code",
      "metadata": {
        "id": "2-vxWHnxopQ_",
        "colab_type": "code",
        "outputId": "16fe1e9d-1411-4fcd-cfc4-6dc5484b5d56",
        "colab": {
          "base_uri": "https://localhost:8080/",
          "height": 34
        }
      },
      "source": [
        "#llevo la funcion a un arreglo de [lARGO DEL ARREGLO ,1] PARA ESCALAR LOS DATOS y que la red aprenda de mejor forma\n",
        "POT2=POT.reshape(len(POT),1)\n",
        "print(POT2.shape)\n",
        "# normalize the dataset\n",
        "scaler = MinMaxScaler(feature_range=(0, 1))\n",
        "POT2 = scaler.fit_transform(POT2)"
      ],
      "execution_count": 4,
      "outputs": [
        {
          "output_type": "stream",
          "text": [
            "(210865, 1)\n"
          ],
          "name": "stdout"
        }
      ]
    },
    {
      "cell_type": "code",
      "metadata": {
        "id": "xfDvhdRmopOX",
        "colab_type": "code",
        "outputId": "a57eb9f1-9473-4612-fec6-f0587b66de0b",
        "colab": {
          "base_uri": "https://localhost:8080/",
          "height": 68
        }
      },
      "source": [
        "# divido la funcion y1 en arreglos para entrenar y probar la red\n",
        "train_size = int(len(POT2) * 0.8)\n",
        "test_size = len(POT2) - train_size\n",
        "train, test = POT2[0:train_size,:], POT2[train_size:len(POT2),:]\n",
        "print(len(train), len(test))\n",
        "print(train.shape)\n",
        "print(test.shape)"
      ],
      "execution_count": 5,
      "outputs": [
        {
          "output_type": "stream",
          "text": [
            "168692 42173\n",
            "(168692, 1)\n",
            "(42173, 1)\n"
          ],
          "name": "stdout"
        }
      ]
    },
    {
      "cell_type": "code",
      "metadata": {
        "id": "3SZe14pdopIv",
        "colab_type": "code",
        "colab": {}
      },
      "source": [
        "# convertir un arreglo de valores en una matrix\n",
        "def create_dataset(POT2, look_back=1):\n",
        "    dataX, dataY = [], []\n",
        "    for i in range(len(POT2)-look_back-1):\n",
        "        a = POT2[i:(i+look_back), 0]\n",
        "        dataX.append(a)\n",
        "        dataY.append(POT2[i + look_back, 0])\n",
        "    return np.array(dataX), np.array(dataY)"
      ],
      "execution_count": 0,
      "outputs": []
    },
    {
      "cell_type": "code",
      "metadata": {
        "id": "zGYRW2MxopF3",
        "colab_type": "code",
        "outputId": "c680905d-611a-45e3-e440-759f533f2d57",
        "colab": {
          "base_uri": "https://localhost:8080/",
          "height": 85
        }
      },
      "source": [
        "# reshape dentro X=t and Y=t+1\n",
        "look_back = 128\n",
        "trainX, trainY = create_dataset(train, look_back)\n",
        "testX, testY = create_dataset(test, look_back)\n",
        "print(trainX.shape)\n",
        "print(testX.shape)\n",
        "print(trainY.shape)\n",
        "print(testY.shape)\n",
        "#print(trainX[0])\n",
        "#print(trainY[0])\n",
        "#print(trainX[1])\n",
        "#print(trainY[1])\n",
        "#print(trainX[2])\n",
        "#print(trainY[3])"
      ],
      "execution_count": 7,
      "outputs": [
        {
          "output_type": "stream",
          "text": [
            "(168563, 128)\n",
            "(42044, 128)\n",
            "(168563,)\n",
            "(42044,)\n"
          ],
          "name": "stdout"
        }
      ]
    },
    {
      "cell_type": "code",
      "metadata": {
        "id": "dWcwUQ2hopDp",
        "colab_type": "code",
        "outputId": "b6e94fd7-4930-4c41-fcd8-523db9566630",
        "colab": {
          "base_uri": "https://localhost:8080/",
          "height": 51
        }
      },
      "source": [
        "# reshape a la entrada [samples, time steps, features] que es necesario para la red lstm\n",
        "trainX = np.reshape(trainX, (trainX.shape[0], trainX.shape[1], 1))\n",
        "testX = np.reshape(testX, (testX.shape[0], testX.shape[1], 1))\n",
        "print(trainX.shape)\n",
        "print(testX.shape)"
      ],
      "execution_count": 8,
      "outputs": [
        {
          "output_type": "stream",
          "text": [
            "(168563, 128, 1)\n",
            "(42044, 128, 1)\n"
          ],
          "name": "stdout"
        }
      ]
    },
    {
      "cell_type": "code",
      "metadata": {
        "id": "3zah7X9Loo_X",
        "colab_type": "code",
        "colab": {}
      },
      "source": [
        "neuronas= 100"
      ],
      "execution_count": 0,
      "outputs": []
    },
    {
      "cell_type": "code",
      "metadata": {
        "id": "Pibf3Aqjoo9W",
        "colab_type": "code",
        "outputId": "98412127-3610-40a4-b8eb-ce1cab1e56d2",
        "colab": {
          "base_uri": "https://localhost:8080/",
          "height": 632
        }
      },
      "source": [
        "# create and fit the LSTM network\n",
        "model = Sequential()\n",
        "model.add(LSTM(neuronas, input_shape=(look_back, 1)))\n",
        "model.add(Dense(1))\n",
        "model.compile(loss='mean_squared_error', optimizer='adam', metrics=['mse', 'mae', 'mape'])\n",
        "model.summary()\n",
        "keras.utils.plot_model(model, 'my_first_model.png')"
      ],
      "execution_count": 10,
      "outputs": [
        {
          "output_type": "stream",
          "text": [
            "WARNING:tensorflow:From /usr/local/lib/python3.6/dist-packages/keras/backend/tensorflow_backend.py:66: The name tf.get_default_graph is deprecated. Please use tf.compat.v1.get_default_graph instead.\n",
            "\n",
            "WARNING:tensorflow:From /usr/local/lib/python3.6/dist-packages/keras/backend/tensorflow_backend.py:541: The name tf.placeholder is deprecated. Please use tf.compat.v1.placeholder instead.\n",
            "\n",
            "WARNING:tensorflow:From /usr/local/lib/python3.6/dist-packages/keras/backend/tensorflow_backend.py:4432: The name tf.random_uniform is deprecated. Please use tf.random.uniform instead.\n",
            "\n",
            "WARNING:tensorflow:From /usr/local/lib/python3.6/dist-packages/keras/optimizers.py:793: The name tf.train.Optimizer is deprecated. Please use tf.compat.v1.train.Optimizer instead.\n",
            "\n",
            "Model: \"sequential_1\"\n",
            "_________________________________________________________________\n",
            "Layer (type)                 Output Shape              Param #   \n",
            "=================================================================\n",
            "lstm_1 (LSTM)                (None, 100)               40800     \n",
            "_________________________________________________________________\n",
            "dense_1 (Dense)              (None, 1)                 101       \n",
            "=================================================================\n",
            "Total params: 40,901\n",
            "Trainable params: 40,901\n",
            "Non-trainable params: 0\n",
            "_________________________________________________________________\n"
          ],
          "name": "stdout"
        },
        {
          "output_type": "execute_result",
          "data": {
            "image/png": "[encoded data removed]",
            "text/plain": [
              "<IPython.core.display.Image object>"
            ]
          },
          "metadata": {
            "tags": []
          },
          "execution_count": 10
        }
      ]
    },
    {
      "cell_type": "code",
      "metadata": {
        "id": "TlKss57PfV00",
        "colab_type": "code",
        "colab": {}
      },
      "source": [
        "from keras.callbacks import EarlyStopping\n",
        "from keras.callbacks import ModelCheckpoint\n",
        "filepath=\"Checkpoint_mejores_pesos.hdf5\"\n",
        "checkpoint = ModelCheckpoint(filepath, monitor='val_mean_absolute_percentage_error', verbose=1, save_best_only=True, mode='min')\n",
        "# simple early stopping\n",
        "es = EarlyStopping(monitor='val_mean_absolute_percentage_error', mode='min', verbose=1, patience=3)"
      ],
      "execution_count": 0,
      "outputs": []
    },
    {
      "cell_type": "code",
      "metadata": {
        "id": "cTGFjquKoo7L",
        "colab_type": "code",
        "outputId": "f1abca46-5f72-4c43-9ef4-9e191637ec55",
        "colab": {
          "base_uri": "https://localhost:8080/",
          "height": 1000
        }
      },
      "source": [
        "batch_size= 32 \n",
        "epochs= 10\n",
        "start = time.time()\n",
        "History_sen = model.fit(trainX, trainY,batch_size=batch_size, epochs= epochs, callbacks=[es, checkpoint] , validation_split=0.1)\n",
        "print(\"> Compilation Time : \", time.time() - start)"
      ],
      "execution_count": 12,
      "outputs": [
        {
          "output_type": "stream",
          "text": [
            "WARNING:tensorflow:From /usr/local/lib/python3.6/dist-packages/tensorflow_core/python/ops/math_grad.py:1424: where (from tensorflow.python.ops.array_ops) is deprecated and will be removed in a future version.\n",
            "Instructions for updating:\n",
            "Use tf.where in 2.0, which has the same broadcast rule as np.where\n",
            "WARNING:tensorflow:From /usr/local/lib/python3.6/dist-packages/keras/backend/tensorflow_backend.py:1033: The name tf.assign_add is deprecated. Please use tf.compat.v1.assign_add instead.\n",
            "\n",
            "WARNING:tensorflow:From /usr/local/lib/python3.6/dist-packages/keras/backend/tensorflow_backend.py:1020: The name tf.assign is deprecated. Please use tf.compat.v1.assign instead.\n",
            "\n",
            "WARNING:tensorflow:From /usr/local/lib/python3.6/dist-packages/keras/backend/tensorflow_backend.py:3005: The name tf.Session is deprecated. Please use tf.compat.v1.Session instead.\n",
            "\n",
            "Train on 151706 samples, validate on 16857 samples\n",
            "Epoch 1/10\n",
            "WARNING:tensorflow:From /usr/local/lib/python3.6/dist-packages/keras/backend/tensorflow_backend.py:190: The name tf.get_default_session is deprecated. Please use tf.compat.v1.get_default_session instead.\n",
            "\n",
            "WARNING:tensorflow:From /usr/local/lib/python3.6/dist-packages/keras/backend/tensorflow_backend.py:197: The name tf.ConfigProto is deprecated. Please use tf.compat.v1.ConfigProto instead.\n",
            "\n",
            "WARNING:tensorflow:From /usr/local/lib/python3.6/dist-packages/keras/backend/tensorflow_backend.py:207: The name tf.global_variables is deprecated. Please use tf.compat.v1.global_variables instead.\n",
            "\n",
            "WARNING:tensorflow:From /usr/local/lib/python3.6/dist-packages/keras/backend/tensorflow_backend.py:216: The name tf.is_variable_initialized is deprecated. Please use tf.compat.v1.is_variable_initialized instead.\n",
            "\n",
            "WARNING:tensorflow:From /usr/local/lib/python3.6/dist-packages/keras/backend/tensorflow_backend.py:223: The name tf.variables_initializer is deprecated. Please use tf.compat.v1.variables_initializer instead.\n",
            "\n",
            "151706/151706 [==============================] - 861s 6ms/step - loss: 0.0045 - mean_squared_error: 0.0045 - mean_absolute_error: 0.0442 - mean_absolute_percentage_error: 8.5049 - val_loss: 0.0034 - val_mean_squared_error: 0.0034 - val_mean_absolute_error: 0.0412 - val_mean_absolute_percentage_error: 7.7053\n",
            "\n",
            "Epoch 00001: val_mean_absolute_percentage_error improved from inf to 7.70528, saving model to Checkpoint_mejores_pesos.hdf5\n",
            "Epoch 2/10\n",
            "151706/151706 [==============================] - 868s 6ms/step - loss: 0.0037 - mean_squared_error: 0.0037 - mean_absolute_error: 0.0398 - mean_absolute_percentage_error: 7.7331 - val_loss: 0.0032 - val_mean_squared_error: 0.0032 - val_mean_absolute_error: 0.0381 - val_mean_absolute_percentage_error: 7.3370\n",
            "\n",
            "Epoch 00002: val_mean_absolute_percentage_error improved from 7.70528 to 7.33696, saving model to Checkpoint_mejores_pesos.hdf5\n",
            "Epoch 3/10\n",
            "151706/151706 [==============================] - 883s 6ms/step - loss: 0.0036 - mean_squared_error: 0.0036 - mean_absolute_error: 0.0389 - mean_absolute_percentage_error: 7.5930 - val_loss: 0.0031 - val_mean_squared_error: 0.0031 - val_mean_absolute_error: 0.0360 - val_mean_absolute_percentage_error: 7.2621\n",
            "\n",
            "Epoch 00003: val_mean_absolute_percentage_error improved from 7.33696 to 7.26213, saving model to Checkpoint_mejores_pesos.hdf5\n",
            "Epoch 4/10\n",
            "151706/151706 [==============================] - 887s 6ms/step - loss: 0.0035 - mean_squared_error: 0.0035 - mean_absolute_error: 0.0382 - mean_absolute_percentage_error: 7.4699 - val_loss: 0.0029 - val_mean_squared_error: 0.0029 - val_mean_absolute_error: 0.0345 - val_mean_absolute_percentage_error: 6.8667\n",
            "\n",
            "Epoch 00004: val_mean_absolute_percentage_error improved from 7.26213 to 6.86672, saving model to Checkpoint_mejores_pesos.hdf5\n",
            "Epoch 5/10\n",
            "151706/151706 [==============================] - 885s 6ms/step - loss: 0.0034 - mean_squared_error: 0.0034 - mean_absolute_error: 0.0376 - mean_absolute_percentage_error: 7.3741 - val_loss: 0.0028 - val_mean_squared_error: 0.0028 - val_mean_absolute_error: 0.0350 - val_mean_absolute_percentage_error: 6.8604\n",
            "\n",
            "Epoch 00005: val_mean_absolute_percentage_error improved from 6.86672 to 6.86043, saving model to Checkpoint_mejores_pesos.hdf5\n",
            "Epoch 6/10\n",
            "151706/151706 [==============================] - 862s 6ms/step - loss: 0.0033 - mean_squared_error: 0.0033 - mean_absolute_error: 0.0373 - mean_absolute_percentage_error: 7.3169 - val_loss: 0.0028 - val_mean_squared_error: 0.0028 - val_mean_absolute_error: 0.0339 - val_mean_absolute_percentage_error: 6.7283\n",
            "\n",
            "Epoch 00006: val_mean_absolute_percentage_error improved from 6.86043 to 6.72826, saving model to Checkpoint_mejores_pesos.hdf5\n",
            "Epoch 7/10\n",
            "151706/151706 [==============================] - 847s 6ms/step - loss: 0.0032 - mean_squared_error: 0.0032 - mean_absolute_error: 0.0363 - mean_absolute_percentage_error: 7.1268 - val_loss: 0.0028 - val_mean_squared_error: 0.0028 - val_mean_absolute_error: 0.0354 - val_mean_absolute_percentage_error: 6.8961\n",
            "\n",
            "Epoch 00007: val_mean_absolute_percentage_error did not improve from 6.72826\n",
            "Epoch 8/10\n",
            "151706/151706 [==============================] - 837s 6ms/step - loss: 0.0031 - mean_squared_error: 0.0031 - mean_absolute_error: 0.0355 - mean_absolute_percentage_error: 6.9702 - val_loss: 0.0026 - val_mean_squared_error: 0.0026 - val_mean_absolute_error: 0.0327 - val_mean_absolute_percentage_error: 6.4576\n",
            "\n",
            "Epoch 00008: val_mean_absolute_percentage_error improved from 6.72826 to 6.45759, saving model to Checkpoint_mejores_pesos.hdf5\n",
            "Epoch 9/10\n",
            "151706/151706 [==============================] - 838s 6ms/step - loss: 0.0031 - mean_squared_error: 0.0031 - mean_absolute_error: 0.0351 - mean_absolute_percentage_error: 6.8991 - val_loss: 0.0029 - val_mean_squared_error: 0.0029 - val_mean_absolute_error: 0.0391 - val_mean_absolute_percentage_error: 7.3729\n",
            "\n",
            "Epoch 00009: val_mean_absolute_percentage_error did not improve from 6.45759\n",
            "Epoch 10/10\n",
            " 60672/151706 [==========>...................] - ETA: 8:05 - loss: 0.0030 - mean_squared_error: 0.0030 - mean_absolute_error: 0.0348 - mean_absolute_percentage_error: 6.7587Buffered data was truncated after reaching the output size limit."
          ],
          "name": "stdout"
        }
      ]
    },
    {
      "cell_type": "code",
      "metadata": {
        "id": "PAsAJVRC3qGv",
        "colab_type": "code",
        "colab": {}
      },
      "source": [
        "# serialize model to JSON\n",
        "model_json = model.to_json()\n",
        "with open(\"model_ltnlos_señal2.json\", \"w\") as json_file:\n",
        "    json_file.write(model_json)\n"
      ],
      "execution_count": 0,
      "outputs": []
    },
    {
      "cell_type": "code",
      "metadata": {
        "id": "AUNsMfzpZFAN",
        "colab_type": "code",
        "colab": {}
      },
      "source": [
        "import pickle\n",
        "\n",
        "pickle_out = open(\"History_sen.pickle\",\"wb\")\n",
        "pickle.dump(History_sen, pickle_out)\n",
        "pickle_out.close()"
      ],
      "execution_count": 0,
      "outputs": []
    },
    {
      "cell_type": "code",
      "metadata": {
        "id": "SN2qrrsJZIin",
        "colab_type": "code",
        "colab": {}
      },
      "source": [
        "import pickle \n",
        "\n",
        "pickle_in = open(\"History_sen.pickle\",\"rb\")\n",
        "History_saved = pickle.load(pickle_in)\n"
      ],
      "execution_count": 0,
      "outputs": []
    },
    {
      "cell_type": "code",
      "metadata": {
        "id": "RwFt9oN9ZWEv",
        "colab_type": "code",
        "colab": {}
      },
      "source": [
        "History = History_saved"
      ],
      "execution_count": 0,
      "outputs": []
    },
    {
      "cell_type": "code",
      "metadata": {
        "id": "OoEUiDLNoo27",
        "colab_type": "code",
        "colab": {
          "base_uri": "https://localhost:8080/",
          "height": 301
        },
        "outputId": "5c106226-2767-4f89-d321-1ef24149aa8a"
      },
      "source": [
        "# plot metrics\n",
        "#plt.figure(figsize=[8,8])\n",
        "plt.plot(History.history['mean_squared_error'], label='mse')\n",
        "plt.plot(History.history['val_mean_squared_error'], label= 'validación_mse')\n",
        "plt.xlabel(\"epocas\",fontsize = 16)\n",
        "plt.ylabel(\"loss\",fontsize = 16)\n",
        "plt.legend(framealpha=1, frameon=True)"
      ],
      "execution_count": 17,
      "outputs": [
        {
          "output_type": "execute_result",
          "data": {
            "text/plain": [
              "<matplotlib.legend.Legend at 0x7fc14ae15518>"
            ]
          },
          "metadata": {
            "tags": []
          },
          "execution_count": 17
        },
        {
          "output_type": "display_data",
          "data": {
            "image/png": "[encoded data removed]",
            "text/plain": [
              "<Figure size 432x288 with 1 Axes>"
            ]
          },
          "metadata": {
            "tags": []
          }
        }
      ]
    },
    {
      "cell_type": "code",
      "metadata": {
        "id": "HQRKB-mKoop1",
        "colab_type": "code",
        "colab": {
          "base_uri": "https://localhost:8080/",
          "height": 301
        },
        "outputId": "0872409e-18d1-4bb0-b664-4ac37c40162a"
      },
      "source": [
        "plt.plot(History.history['mean_absolute_error'], label='mae')\n",
        "plt.plot(History.history['val_mean_absolute_error'], label= 'validación_mae')\n",
        "plt.xlabel(\"epocas\",fontsize = 16)\n",
        "plt.ylabel(\"loss\",fontsize = 16)\n",
        "plt.legend(framealpha=1, frameon=True)"
      ],
      "execution_count": 18,
      "outputs": [
        {
          "output_type": "execute_result",
          "data": {
            "text/plain": [
              "<matplotlib.legend.Legend at 0x7fc14ae176a0>"
            ]
          },
          "metadata": {
            "tags": []
          },
          "execution_count": 18
        },
        {
          "output_type": "display_data",
          "data": {
            "image/png": "[encoded data removed]",
            "text/plain": [
              "<Figure size 432x288 with 1 Axes>"
            ]
          },
          "metadata": {
            "tags": []
          }
        }
      ]
    },
    {
      "cell_type": "markdown",
      "metadata": {
        "id": "xyqHDtOWcwdu",
        "colab_type": "text"
      },
      "source": [
        ""
      ]
    },
    {
      "cell_type": "code",
      "metadata": {
        "id": "urp-emVdcxQZ",
        "colab_type": "code",
        "colab": {
          "base_uri": "https://localhost:8080/",
          "height": 187
        },
        "outputId": "a22c4f81-a0b0-4eeb-e5b2-14a615b4358b"
      },
      "source": [
        "History.history['mean_absolute_percentage_error']"
      ],
      "execution_count": 19,
      "outputs": [
        {
          "output_type": "execute_result",
          "data": {
            "text/plain": [
              "[8.504924558636736,\n",
              " 7.733123059147228,\n",
              " 7.592981171944604,\n",
              " 7.4698708965307095,\n",
              " 7.374103344036997,\n",
              " 7.31686831490611,\n",
              " 7.126786265261899,\n",
              " 6.970232024409123,\n",
              " 6.899134833492142,\n",
              " 6.869199352827157]"
            ]
          },
          "metadata": {
            "tags": []
          },
          "execution_count": 19
        }
      ]
    },
    {
      "cell_type": "code",
      "metadata": {
        "id": "GdBVmd0bdWIA",
        "colab_type": "code",
        "colab": {}
      },
      "source": [
        ""
      ],
      "execution_count": 0,
      "outputs": []
    },
    {
      "cell_type": "code",
      "metadata": {
        "id": "eiTvZ52ioons",
        "colab_type": "code",
        "colab": {
          "base_uri": "https://localhost:8080/",
          "height": 301
        },
        "outputId": "29299a26-d592-48a9-fcec-8f6576a5f846"
      },
      "source": [
        "plt.plot(History.history['mean_absolute_percentage_error'], label= 'mape')\n",
        "plt.plot(History.history['val_mean_absolute_percentage_error'], label= 'validación_mape')\n",
        "plt.xlabel(\"epocas\",fontsize = 16)\n",
        "plt.ylabel(\"loss\",fontsize = 16)\n",
        "plt.legend(framealpha=1, frameon=True)"
      ],
      "execution_count": 20,
      "outputs": [
        {
          "output_type": "execute_result",
          "data": {
            "text/plain": [
              "<matplotlib.legend.Legend at 0x7fc0d690d828>"
            ]
          },
          "metadata": {
            "tags": []
          },
          "execution_count": 20
        },
        {
          "output_type": "display_data",
          "data": {
            "image/png": "[encoded data removed]",
            "text/plain": [
              "<Figure size 432x288 with 1 Axes>"
            ]
          },
          "metadata": {
            "tags": []
          }
        }
      ]
    },
    {
      "cell_type": "code",
      "metadata": {
        "id": "aXpcgjxfooiB",
        "colab_type": "code",
        "colab": {
          "base_uri": "https://localhost:8080/",
          "height": 85
        },
        "outputId": "1d9f0f71-fc6a-425e-8d0b-44f962c57ce6"
      },
      "source": [
        "# predicciones de los valores de prueba\n",
        "prediccion_test = model.predict(testX)\n",
        "prediccion_test = scaler.inverse_transform(prediccion_test)\n",
        "#actuals = test_y\n",
        "valor_real_test = scaler.inverse_transform([testY])\n",
        "valor_real_test= valor_real_test.reshape(len(prediccion_test),1)\n",
        "#prediccion de los valores de entrenamiento\n",
        "aprendido=model.predict(trainX)\n",
        "aprendido_train=scaler.inverse_transform(aprendido)\n",
        "reales_train=scaler.inverse_transform([trainY])\n",
        "reales_train=scaler.inverse_transform([trainY])\n",
        "reales_train=reales_train.reshape(len(aprendido),1)\n",
        "###################################################\n",
        "mse_aprendido=mean_squared_error(reales_train,aprendido_train)\n",
        "mse_test=mean_squared_error(valor_real_test,prediccion_test)\n",
        "print('Train Mean square Error:', mse_aprendido)\n",
        "print('Test Mean square Error:', mse_test)\n",
        "#######################################################\n",
        "rmse_train=math.sqrt(mse_aprendido)\n",
        "rmse_test=math.sqrt(mse_test)\n",
        "print('Train Root Mean Squared Error:', rmse_train)\n",
        "print('Test Root Mean Squared Error:', rmse_test)\n"
      ],
      "execution_count": 21,
      "outputs": [
        {
          "output_type": "stream",
          "text": [
            "Train Mean square Error: 7.874318750865711\n",
            "Test Mean square Error: 4.408648865059141\n",
            "Train Root Mean Squared Error: 2.80612165646212\n",
            "Test Root Mean Squared Error: 2.0996782765602786\n"
          ],
          "name": "stdout"
        }
      ]
    },
    {
      "cell_type": "code",
      "metadata": {
        "id": "8TQVHJXMooTc",
        "colab_type": "code",
        "colab": {}
      },
      "source": [
        "def mean_absolute_percentage_error(y_true, y_pred): \n",
        "    y_true, y_pred = np.array(y_true), np.array(y_pred)\n",
        "    return np.mean(np.abs((y_true - y_pred) / y_true)) * 100"
      ],
      "execution_count": 0,
      "outputs": []
    },
    {
      "cell_type": "code",
      "metadata": {
        "id": "hz90rBo4ooQk",
        "colab_type": "code",
        "colab": {
          "base_uri": "https://localhost:8080/",
          "height": 88
        },
        "outputId": "7fdacf9f-087c-4134-aa48-04d01ad809ef"
      },
      "source": [
        "#mape train\n",
        "mean_absolute_percentage_error(reales_train,aprendido_train)"
      ],
      "execution_count": 23,
      "outputs": [
        {
          "output_type": "stream",
          "text": [
            "/usr/local/lib/python3.6/dist-packages/ipykernel_launcher.py:3: RuntimeWarning: divide by zero encountered in true_divide\n",
            "  This is separate from the ipykernel package so we can avoid doing imports until\n"
          ],
          "name": "stderr"
        },
        {
          "output_type": "execute_result",
          "data": {
            "text/plain": [
              "inf"
            ]
          },
          "metadata": {
            "tags": []
          },
          "execution_count": 23
        }
      ]
    },
    {
      "cell_type": "code",
      "metadata": {
        "id": "2o-46s1GooMD",
        "colab_type": "code",
        "colab": {
          "base_uri": "https://localhost:8080/",
          "height": 34
        },
        "outputId": "975f198f-7c72-440f-9c67-524a705183d9"
      },
      "source": [
        "#mape test\n",
        "mean_absolute_percentage_error(valor_real_test,prediccion_test)"
      ],
      "execution_count": 24,
      "outputs": [
        {
          "output_type": "execute_result",
          "data": {
            "text/plain": [
              "5.739166538272877"
            ]
          },
          "metadata": {
            "tags": []
          },
          "execution_count": 24
        }
      ]
    },
    {
      "cell_type": "code",
      "metadata": {
        "id": "atqbuSa6ooJ8",
        "colab_type": "code",
        "colab": {}
      },
      "source": [
        "def smape(y_true, y_pred):\n",
        "    denominator = (np.abs(y_true) + np.abs(y_pred))\n",
        "    diff = np.abs(y_true - y_pred) / denominator\n",
        "    diff[denominator == 0] = 0.0\n",
        "    return 200 * np.mean(diff)"
      ],
      "execution_count": 0,
      "outputs": []
    },
    {
      "cell_type": "code",
      "metadata": {
        "id": "PoJv7ITIooEd",
        "colab_type": "code",
        "colab": {
          "base_uri": "https://localhost:8080/",
          "height": 34
        },
        "outputId": "8fcaaea6-b693-4f2c-bf0c-b65595574af8"
      },
      "source": [
        "smape(reales_train,aprendido_train)"
      ],
      "execution_count": 26,
      "outputs": [
        {
          "output_type": "execute_result",
          "data": {
            "text/plain": [
              "9.849170363008948"
            ]
          },
          "metadata": {
            "tags": []
          },
          "execution_count": 26
        }
      ]
    },
    {
      "cell_type": "code",
      "metadata": {
        "id": "tn9nKIIDooBS",
        "colab_type": "code",
        "colab": {
          "base_uri": "https://localhost:8080/",
          "height": 34
        },
        "outputId": "295fea17-bee7-4c4d-f124-fdaeb9b16799"
      },
      "source": [
        "smape(valor_real_test,prediccion_test)"
      ],
      "execution_count": 27,
      "outputs": [
        {
          "output_type": "execute_result",
          "data": {
            "text/plain": [
              "5.7119058680461645"
            ]
          },
          "metadata": {
            "tags": []
          },
          "execution_count": 27
        }
      ]
    },
    {
      "cell_type": "code",
      "metadata": {
        "id": "AE3GYif3on9c",
        "colab_type": "code",
        "colab": {
          "base_uri": "https://localhost:8080/",
          "height": 740
        },
        "outputId": "54b59590-c0e8-4f86-b987-e55236bb9f83"
      },
      "source": [
        "# plot entrenamiento\n",
        "plt.figure(figsize=[12,12])\n",
        "plt.plot(reales_train, label='Datos reales')\n",
        "plt.plot(aprendido_train, label= 'predicciones aprendido')\n",
        "plt.xlabel(\"muestras\",fontsize = 20)\n",
        "plt.ylabel(\"Potencia\",fontsize = 20)\n",
        "plt.legend(framealpha=1, frameon=True, loc='upper right')"
      ],
      "execution_count": 28,
      "outputs": [
        {
          "output_type": "execute_result",
          "data": {
            "text/plain": [
              "<matplotlib.legend.Legend at 0x7fc0d68da5f8>"
            ]
          },
          "metadata": {
            "tags": []
          },
          "execution_count": 28
        },
        {
          "output_type": "display_data",
          "data": {
            "image/png": "[encoded data removed]",
            "text/plain": [
              "<Figure size 864x864 with 1 Axes>"
            ]
          },
          "metadata": {
            "tags": []
          }
        }
      ]
    },
    {
      "cell_type": "code",
      "metadata": {
        "id": "0mF-2Qubon7M",
        "colab_type": "code",
        "colab": {
          "base_uri": "https://localhost:8080/",
          "height": 740
        },
        "outputId": "fa28fbd7-4684-464a-d92e-83a78bf0b0e5"
      },
      "source": [
        "# plot test\n",
        "plt.figure(figsize=[12,12])\n",
        "plt.plot(valor_real_test, label='Datos reales')\n",
        "plt.plot(prediccion_test , label= 'predicciones test')\n",
        "plt.xlabel(\"muestras\",fontsize = 20)\n",
        "plt.ylabel(\"Potencia\",fontsize = 20)\n",
        "plt.legend(framealpha=1, frameon=True, loc='upper right')"
      ],
      "execution_count": 29,
      "outputs": [
        {
          "output_type": "execute_result",
          "data": {
            "text/plain": [
              "<matplotlib.legend.Legend at 0x7fc0d680fd68>"
            ]
          },
          "metadata": {
            "tags": []
          },
          "execution_count": 29
        },
        {
          "output_type": "display_data",
          "data": {
            "image/png": "[encoded data removed]",
            "text/plain": [
              "<Figure size 864x864 with 1 Axes>"
            ]
          },
          "metadata": {
            "tags": []
          }
        }
      ]
    },
    {
      "cell_type": "code",
      "metadata": {
        "id": "55MzX_ZFon5I",
        "colab_type": "code",
        "colab": {
          "base_uri": "https://localhost:8080/",
          "height": 419
        },
        "outputId": "3a16feff-1908-4a61-bcec-377019e651da"
      },
      "source": [
        "acc = abs(prediccion_test-valor_real_test)\n",
        "porc_error = (acc / abs(valor_real_test)) * 100\n",
        "mostrar = valor_real_test, prediccion_test, acc, porc_error\n",
        "Tabla_arr = np.array(mostrar)\n",
        "Tabla = np.transpose(Tabla_arr)\n",
        "Tabla=Tabla.reshape(len(acc), -1)\n",
        "Tabla_df = pd.DataFrame(Tabla, columns=['Datos predichos','Datos reales','Error','Error porcentual'])\n",
        "Tabla_df"
      ],
      "execution_count": 30,
      "outputs": [
        {
          "output_type": "execute_result",
          "data": {
            "text/html": [
              "<div>\n",
              "<style scoped>\n",
              "    .dataframe tbody tr th:only-of-type {\n",
              "        vertical-align: middle;\n",
              "    }\n",
              "\n",
              "    .dataframe tbody tr th {\n",
              "        vertical-align: top;\n",
              "    }\n",
              "\n",
              "    .dataframe thead th {\n",
              "        text-align: right;\n",
              "    }\n",
              "</style>\n",
              "<table border=\"1\" class=\"dataframe\">\n",
              "  <thead>\n",
              "    <tr style=\"text-align: right;\">\n",
              "      <th></th>\n",
              "      <th>Datos predichos</th>\n",
              "      <th>Datos reales</th>\n",
              "      <th>Error</th>\n",
              "      <th>Error porcentual</th>\n",
              "    </tr>\n",
              "  </thead>\n",
              "  <tbody>\n",
              "    <tr>\n",
              "      <th>0</th>\n",
              "      <td>-23.76</td>\n",
              "      <td>-24.147827</td>\n",
              "      <td>0.387827</td>\n",
              "      <td>1.632269</td>\n",
              "    </tr>\n",
              "    <tr>\n",
              "      <th>1</th>\n",
              "      <td>-23.47</td>\n",
              "      <td>-24.055403</td>\n",
              "      <td>0.585403</td>\n",
              "      <td>2.494260</td>\n",
              "    </tr>\n",
              "    <tr>\n",
              "      <th>2</th>\n",
              "      <td>-23.32</td>\n",
              "      <td>-23.840691</td>\n",
              "      <td>0.520691</td>\n",
              "      <td>2.232807</td>\n",
              "    </tr>\n",
              "    <tr>\n",
              "      <th>3</th>\n",
              "      <td>-23.62</td>\n",
              "      <td>-23.856535</td>\n",
              "      <td>0.236535</td>\n",
              "      <td>1.001418</td>\n",
              "    </tr>\n",
              "    <tr>\n",
              "      <th>4</th>\n",
              "      <td>-23.76</td>\n",
              "      <td>-24.205004</td>\n",
              "      <td>0.445004</td>\n",
              "      <td>1.872911</td>\n",
              "    </tr>\n",
              "    <tr>\n",
              "      <th>...</th>\n",
              "      <td>...</td>\n",
              "      <td>...</td>\n",
              "      <td>...</td>\n",
              "      <td>...</td>\n",
              "    </tr>\n",
              "    <tr>\n",
              "      <th>42039</th>\n",
              "      <td>-18.89</td>\n",
              "      <td>-18.108021</td>\n",
              "      <td>0.781979</td>\n",
              "      <td>4.139646</td>\n",
              "    </tr>\n",
              "    <tr>\n",
              "      <th>42040</th>\n",
              "      <td>-16.68</td>\n",
              "      <td>-15.767736</td>\n",
              "      <td>0.912264</td>\n",
              "      <td>5.469206</td>\n",
              "    </tr>\n",
              "    <tr>\n",
              "      <th>42041</th>\n",
              "      <td>-18.30</td>\n",
              "      <td>-18.003088</td>\n",
              "      <td>0.296912</td>\n",
              "      <td>1.622470</td>\n",
              "    </tr>\n",
              "    <tr>\n",
              "      <th>42042</th>\n",
              "      <td>-34.69</td>\n",
              "      <td>-18.642029</td>\n",
              "      <td>16.047971</td>\n",
              "      <td>46.261087</td>\n",
              "    </tr>\n",
              "    <tr>\n",
              "      <th>42043</th>\n",
              "      <td>-19.63</td>\n",
              "      <td>-15.363252</td>\n",
              "      <td>4.266748</td>\n",
              "      <td>21.735855</td>\n",
              "    </tr>\n",
              "  </tbody>\n",
              "</table>\n",
              "<p>42044 rows × 4 columns</p>\n",
              "</div>"
            ],
            "text/plain": [
              "       Datos predichos  Datos reales      Error  Error porcentual\n",
              "0               -23.76    -24.147827   0.387827          1.632269\n",
              "1               -23.47    -24.055403   0.585403          2.494260\n",
              "2               -23.32    -23.840691   0.520691          2.232807\n",
              "3               -23.62    -23.856535   0.236535          1.001418\n",
              "4               -23.76    -24.205004   0.445004          1.872911\n",
              "...                ...           ...        ...               ...\n",
              "42039           -18.89    -18.108021   0.781979          4.139646\n",
              "42040           -16.68    -15.767736   0.912264          5.469206\n",
              "42041           -18.30    -18.003088   0.296912          1.622470\n",
              "42042           -34.69    -18.642029  16.047971         46.261087\n",
              "42043           -19.63    -15.363252   4.266748         21.735855\n",
              "\n",
              "[42044 rows x 4 columns]"
            ]
          },
          "metadata": {
            "tags": []
          },
          "execution_count": 30
        }
      ]
    },
    {
      "cell_type": "code",
      "metadata": {
        "id": "yoBQ3peNr6zV",
        "colab_type": "code",
        "colab": {}
      },
      "source": [
        "import seaborn as sns"
      ],
      "execution_count": 0,
      "outputs": []
    },
    {
      "cell_type": "code",
      "metadata": {
        "id": "pYTVse0hsFA-",
        "colab_type": "code",
        "colab": {}
      },
      "source": [
        "aprendido_red=aprendido_train[:,0]\n",
        "rial=reales_train[:,0]\n",
        "testing=valor_real_test[:,0]\n",
        "prediccion=prediccion_test[:,0]"
      ],
      "execution_count": 0,
      "outputs": []
    },
    {
      "cell_type": "code",
      "metadata": {
        "id": "VoJ57gYAon1O",
        "colab_type": "code",
        "colab": {
          "base_uri": "https://localhost:8080/",
          "height": 282
        },
        "outputId": "ccc07598-dd96-4733-b4ab-818a66adb935"
      },
      "source": [
        "sns.kdeplot(aprendido_red, cumulative=True)\n",
        "sns.kdeplot(rial, cumulative=True)"
      ],
      "execution_count": 33,
      "outputs": [
        {
          "output_type": "execute_result",
          "data": {
            "text/plain": [
              "<matplotlib.axes._subplots.AxesSubplot at 0x7fc0d484af60>"
            ]
          },
          "metadata": {
            "tags": []
          },
          "execution_count": 33
        },
        {
          "output_type": "display_data",
          "data": {
            "image/png": "[encoded data removed]",
            "text/plain": [
              "<Figure size 432x288 with 1 Axes>"
            ]
          },
          "metadata": {
            "tags": []
          }
        }
      ]
    },
    {
      "cell_type": "code",
      "metadata": {
        "id": "-zHPbGS8onZ2",
        "colab_type": "code",
        "colab": {
          "base_uri": "https://localhost:8080/",
          "height": 282
        },
        "outputId": "7cb1509d-a61f-48bd-a6d7-e8b1ef56f317"
      },
      "source": [
        "sns.kdeplot(testing, cumulative=True)\n",
        "sns.kdeplot(prediccion, cumulative=True)"
      ],
      "execution_count": 34,
      "outputs": [
        {
          "output_type": "execute_result",
          "data": {
            "text/plain": [
              "<matplotlib.axes._subplots.AxesSubplot at 0x7fc0d4351710>"
            ]
          },
          "metadata": {
            "tags": []
          },
          "execution_count": 34
        },
        {
          "output_type": "display_data",
          "data": {
            "image/png": "[encoded data removed]",
            "text/plain": [
              "<Figure size 432x288 with 1 Axes>"
            ]
          },
          "metadata": {
            "tags": []
          }
        }
      ]
    },
    {
      "cell_type": "code",
      "metadata": {
        "id": "eKaLwUveonU0",
        "colab_type": "code",
        "colab": {
          "base_uri": "https://localhost:8080/",
          "height": 282
        },
        "outputId": "ba9d9803-239f-45c1-c005-dde8f18d796b"
      },
      "source": [
        "err=prediccion_test-valor_real_test\n",
        "err_1=err[:,0]\n",
        "sns.kdeplot(err_1, cumulative=True)"
      ],
      "execution_count": 35,
      "outputs": [
        {
          "output_type": "execute_result",
          "data": {
            "text/plain": [
              "<matplotlib.axes._subplots.AxesSubplot at 0x7fc0d42b3908>"
            ]
          },
          "metadata": {
            "tags": []
          },
          "execution_count": 35
        },
        {
          "output_type": "display_data",
          "data": {
            "image/png": "[encoded data removed]",
            "text/plain": [
              "<Figure size 432x288 with 1 Axes>"
            ]
          },
          "metadata": {
            "tags": []
          }
        }
      ]
    },
    {
      "cell_type": "code",
      "metadata": {
        "id": "DrRm0m7sonSu",
        "colab_type": "code",
        "colab": {}
      },
      "source": [
        ""
      ],
      "execution_count": 0,
      "outputs": []
    },
    {
      "cell_type": "code",
      "metadata": {
        "id": "ajCs0w-_onOx",
        "colab_type": "code",
        "colab": {}
      },
      "source": [
        ""
      ],
      "execution_count": 0,
      "outputs": []
    },
    {
      "cell_type": "code",
      "metadata": {
        "id": "XKqrsC76onMn",
        "colab_type": "code",
        "colab": {}
      },
      "source": [
        ""
      ],
      "execution_count": 0,
      "outputs": []
    },
    {
      "cell_type": "code",
      "metadata": {
        "id": "cifCNLRponI8",
        "colab_type": "code",
        "colab": {}
      },
      "source": [
        ""
      ],
      "execution_count": 0,
      "outputs": []
    },
    {
      "cell_type": "code",
      "metadata": {
        "id": "k7H7PpFuoms6",
        "colab_type": "code",
        "colab": {}
      },
      "source": [
        ""
      ],
      "execution_count": 0,
      "outputs": []
    },
    {
      "cell_type": "code",
      "metadata": {
        "id": "aODDdv2XomqI",
        "colab_type": "code",
        "colab": {}
      },
      "source": [
        ""
      ],
      "execution_count": 0,
      "outputs": []
    },
    {
      "cell_type": "code",
      "metadata": {
        "id": "UKWOvK2eommH",
        "colab_type": "code",
        "colab": {}
      },
      "source": [
        ""
      ],
      "execution_count": 0,
      "outputs": []
    },
    {
      "cell_type": "code",
      "metadata": {
        "id": "ox-qDULBomjn",
        "colab_type": "code",
        "colab": {}
      },
      "source": [
        ""
      ],
      "execution_count": 0,
      "outputs": []
    },
    {
      "cell_type": "code",
      "metadata": {
        "id": "_7vyX4BQomgG",
        "colab_type": "code",
        "colab": {}
      },
      "source": [
        ""
      ],
      "execution_count": 0,
      "outputs": []
    },
    {
      "cell_type": "code",
      "metadata": {
        "id": "Vwmk6AXPomd_",
        "colab_type": "code",
        "colab": {}
      },
      "source": [
        ""
      ],
      "execution_count": 0,
      "outputs": []
    },
    {
      "cell_type": "code",
      "metadata": {
        "id": "KzoiZmdUomaG",
        "colab_type": "code",
        "colab": {}
      },
      "source": [
        ""
      ],
      "execution_count": 0,
      "outputs": []
    },
    {
      "cell_type": "code",
      "metadata": {
        "id": "lVOy2ksBomWX",
        "colab_type": "code",
        "colab": {}
      },
      "source": [
        ""
      ],
      "execution_count": 0,
      "outputs": []
    },
    {
      "cell_type": "code",
      "metadata": {
        "id": "rFQhk4i_omTv",
        "colab_type": "code",
        "colab": {}
      },
      "source": [
        ""
      ],
      "execution_count": 0,
      "outputs": []
    },
    {
      "cell_type": "code",
      "metadata": {
        "id": "CZzRaYxyomP1",
        "colab_type": "code",
        "colab": {}
      },
      "source": [
        ""
      ],
      "execution_count": 0,
      "outputs": []
    },
    {
      "cell_type": "code",
      "metadata": {
        "id": "bRlMNb11omNd",
        "colab_type": "code",
        "colab": {}
      },
      "source": [
        ""
      ],
      "execution_count": 0,
      "outputs": []
    },
    {
      "cell_type": "code",
      "metadata": {
        "id": "dwX93b6oomJ2",
        "colab_type": "code",
        "colab": {}
      },
      "source": [
        ""
      ],
      "execution_count": 0,
      "outputs": []
    },
    {
      "cell_type": "code",
      "metadata": {
        "id": "NBtA5AFmomHZ",
        "colab_type": "code",
        "colab": {}
      },
      "source": [
        ""
      ],
      "execution_count": 0,
      "outputs": []
    },
    {
      "cell_type": "code",
      "metadata": {
        "id": "HsNs9NpromDE",
        "colab_type": "code",
        "colab": {}
      },
      "source": [
        ""
      ],
      "execution_count": 0,
      "outputs": []
    },
    {
      "cell_type": "code",
      "metadata": {
        "id": "SPyr07qZol-2",
        "colab_type": "code",
        "colab": {}
      },
      "source": [
        ""
      ],
      "execution_count": 0,
      "outputs": []
    },
    {
      "cell_type": "code",
      "metadata": {
        "id": "2jRm4rONol8E",
        "colab_type": "code",
        "colab": {}
      },
      "source": [
        ""
      ],
      "execution_count": 0,
      "outputs": []
    },
    {
      "cell_type": "code",
      "metadata": {
        "id": "IxnQZimpol4d",
        "colab_type": "code",
        "colab": {}
      },
      "source": [
        ""
      ],
      "execution_count": 0,
      "outputs": []
    },
    {
      "cell_type": "code",
      "metadata": {
        "id": "hRjJ-6Ptol2u",
        "colab_type": "code",
        "colab": {}
      },
      "source": [
        ""
      ],
      "execution_count": 0,
      "outputs": []
    },
    {
      "cell_type": "code",
      "metadata": {
        "id": "V8BqhMa9olzK",
        "colab_type": "code",
        "colab": {}
      },
      "source": [
        ""
      ],
      "execution_count": 0,
      "outputs": []
    },
    {
      "cell_type": "code",
      "metadata": {
        "id": "yGBL7Jtpolvt",
        "colab_type": "code",
        "colab": {}
      },
      "source": [
        ""
      ],
      "execution_count": 0,
      "outputs": []
    },
    {
      "cell_type": "code",
      "metadata": {
        "id": "M7W4sFEJoltV",
        "colab_type": "code",
        "colab": {}
      },
      "source": [
        ""
      ],
      "execution_count": 0,
      "outputs": []
    },
    {
      "cell_type": "code",
      "metadata": {
        "id": "Wtjf55leolp_",
        "colab_type": "code",
        "colab": {}
      },
      "source": [
        ""
      ],
      "execution_count": 0,
      "outputs": []
    },
    {
      "cell_type": "code",
      "metadata": {
        "id": "ekI_lj17oll3",
        "colab_type": "code",
        "colab": {}
      },
      "source": [
        ""
      ],
      "execution_count": 0,
      "outputs": []
    },
    {
      "cell_type": "code",
      "metadata": {
        "id": "MsLfU0PBoliz",
        "colab_type": "code",
        "colab": {}
      },
      "source": [
        ""
      ],
      "execution_count": 0,
      "outputs": []
    },
    {
      "cell_type": "code",
      "metadata": {
        "id": "o3KYRDciolg_",
        "colab_type": "code",
        "colab": {}
      },
      "source": [
        ""
      ],
      "execution_count": 0,
      "outputs": []
    },
    {
      "cell_type": "code",
      "metadata": {
        "id": "-Cdef4u6olfT",
        "colab_type": "code",
        "colab": {}
      },
      "source": [
        ""
      ],
      "execution_count": 0,
      "outputs": []
    },
    {
      "cell_type": "code",
      "metadata": {
        "id": "q2EnLajHoldi",
        "colab_type": "code",
        "colab": {}
      },
      "source": [
        ""
      ],
      "execution_count": 0,
      "outputs": []
    },
    {
      "cell_type": "code",
      "metadata": {
        "id": "sItJA_Hcolbs",
        "colab_type": "code",
        "colab": {}
      },
      "source": [
        ""
      ],
      "execution_count": 0,
      "outputs": []
    },
    {
      "cell_type": "code",
      "metadata": {
        "id": "3sx_nVkrolaJ",
        "colab_type": "code",
        "colab": {}
      },
      "source": [
        ""
      ],
      "execution_count": 0,
      "outputs": []
    },
    {
      "cell_type": "code",
      "metadata": {
        "id": "yO78GpB_olYU",
        "colab_type": "code",
        "colab": {}
      },
      "source": [
        ""
      ],
      "execution_count": 0,
      "outputs": []
    },
    {
      "cell_type": "code",
      "metadata": {
        "id": "es5QzrB3olUY",
        "colab_type": "code",
        "colab": {}
      },
      "source": [
        ""
      ],
      "execution_count": 0,
      "outputs": []
    },
    {
      "cell_type": "code",
      "metadata": {
        "id": "270nkxvVolSH",
        "colab_type": "code",
        "colab": {}
      },
      "source": [
        ""
      ],
      "execution_count": 0,
      "outputs": []
    },
    {
      "cell_type": "code",
      "metadata": {
        "id": "5-_Cb17IolO4",
        "colab_type": "code",
        "colab": {}
      },
      "source": [
        ""
      ],
      "execution_count": 0,
      "outputs": []
    },
    {
      "cell_type": "code",
      "metadata": {
        "id": "kzJ3Fzf-olMG",
        "colab_type": "code",
        "colab": {}
      },
      "source": [
        ""
      ],
      "execution_count": 0,
      "outputs": []
    },
    {
      "cell_type": "code",
      "metadata": {
        "id": "gH4G9Wl3olEc",
        "colab_type": "code",
        "colab": {}
      },
      "source": [
        ""
      ],
      "execution_count": 0,
      "outputs": []
    },
    {
      "cell_type": "code",
      "metadata": {
        "id": "I_T4IrO0olBV",
        "colab_type": "code",
        "colab": {}
      },
      "source": [
        ""
      ],
      "execution_count": 0,
      "outputs": []
    },
    {
      "cell_type": "code",
      "metadata": {
        "id": "2OjrKdwnok_T",
        "colab_type": "code",
        "colab": {}
      },
      "source": [
        ""
      ],
      "execution_count": 0,
      "outputs": []
    },
    {
      "cell_type": "code",
      "metadata": {
        "id": "QMSLog0mok74",
        "colab_type": "code",
        "colab": {}
      },
      "source": [
        ""
      ],
      "execution_count": 0,
      "outputs": []
    },
    {
      "cell_type": "code",
      "metadata": {
        "id": "Yw1PIAuAok5N",
        "colab_type": "code",
        "colab": {}
      },
      "source": [
        ""
      ],
      "execution_count": 0,
      "outputs": []
    },
    {
      "cell_type": "code",
      "metadata": {
        "id": "Cthf1Oflok2C",
        "colab_type": "code",
        "colab": {}
      },
      "source": [
        ""
      ],
      "execution_count": 0,
      "outputs": []
    },
    {
      "cell_type": "code",
      "metadata": {
        "id": "6IY2WmorokzB",
        "colab_type": "code",
        "colab": {}
      },
      "source": [
        ""
      ],
      "execution_count": 0,
      "outputs": []
    },
    {
      "cell_type": "code",
      "metadata": {
        "id": "e8uKzNODoktj",
        "colab_type": "code",
        "colab": {}
      },
      "source": [
        ""
      ],
      "execution_count": 0,
      "outputs": []
    },
    {
      "cell_type": "code",
      "metadata": {
        "id": "lNDQbtPyokr_",
        "colab_type": "code",
        "colab": {}
      },
      "source": [
        ""
      ],
      "execution_count": 0,
      "outputs": []
    },
    {
      "cell_type": "code",
      "metadata": {
        "id": "MLQPcaVhoko_",
        "colab_type": "code",
        "colab": {}
      },
      "source": [
        ""
      ],
      "execution_count": 0,
      "outputs": []
    },
    {
      "cell_type": "code",
      "metadata": {
        "id": "wA1KAgT8oknf",
        "colab_type": "code",
        "colab": {}
      },
      "source": [
        ""
      ],
      "execution_count": 0,
      "outputs": []
    },
    {
      "cell_type": "code",
      "metadata": {
        "id": "rRtLp5cbokl5",
        "colab_type": "code",
        "colab": {}
      },
      "source": [
        ""
      ],
      "execution_count": 0,
      "outputs": []
    },
    {
      "cell_type": "code",
      "metadata": {
        "id": "YYYw2ZNsokjF",
        "colab_type": "code",
        "colab": {}
      },
      "source": [
        ""
      ],
      "execution_count": 0,
      "outputs": []
    },
    {
      "cell_type": "code",
      "metadata": {
        "id": "TyacLL7Yokh0",
        "colab_type": "code",
        "colab": {}
      },
      "source": [
        ""
      ],
      "execution_count": 0,
      "outputs": []
    },
    {
      "cell_type": "code",
      "metadata": {
        "id": "lhMLyIv8okgo",
        "colab_type": "code",
        "colab": {}
      },
      "source": [
        ""
      ],
      "execution_count": 0,
      "outputs": []
    },
    {
      "cell_type": "code",
      "metadata": {
        "id": "Km2TUzehokem",
        "colab_type": "code",
        "colab": {}
      },
      "source": [
        ""
      ],
      "execution_count": 0,
      "outputs": []
    },
    {
      "cell_type": "code",
      "metadata": {
        "id": "FhLbkzxGokbe",
        "colab_type": "code",
        "colab": {}
      },
      "source": [
        ""
      ],
      "execution_count": 0,
      "outputs": []
    },
    {
      "cell_type": "code",
      "metadata": {
        "id": "Lo_jBGu_okY-",
        "colab_type": "code",
        "colab": {}
      },
      "source": [
        ""
      ],
      "execution_count": 0,
      "outputs": []
    },
    {
      "cell_type": "code",
      "metadata": {
        "id": "qXmLcoyTokRY",
        "colab_type": "code",
        "colab": {}
      },
      "source": [
        ""
      ],
      "execution_count": 0,
      "outputs": []
    },
    {
      "cell_type": "code",
      "metadata": {
        "id": "wWk9DdmgokOq",
        "colab_type": "code",
        "colab": {}
      },
      "source": [
        ""
      ],
      "execution_count": 0,
      "outputs": []
    },
    {
      "cell_type": "code",
      "metadata": {
        "id": "Y7U4NlYtokNK",
        "colab_type": "code",
        "colab": {}
      },
      "source": [
        ""
      ],
      "execution_count": 0,
      "outputs": []
    },
    {
      "cell_type": "code",
      "metadata": {
        "id": "Wrgdx_PnokLq",
        "colab_type": "code",
        "colab": {}
      },
      "source": [
        ""
      ],
      "execution_count": 0,
      "outputs": []
    },
    {
      "cell_type": "code",
      "metadata": {
        "id": "5Ul-S1QJokKG",
        "colab_type": "code",
        "colab": {}
      },
      "source": [
        ""
      ],
      "execution_count": 0,
      "outputs": []
    },
    {
      "cell_type": "code",
      "metadata": {
        "id": "Hso1jtA0okIl",
        "colab_type": "code",
        "colab": {}
      },
      "source": [
        ""
      ],
      "execution_count": 0,
      "outputs": []
    },
    {
      "cell_type": "code",
      "metadata": {
        "id": "aBXCdQWYokHC",
        "colab_type": "code",
        "colab": {}
      },
      "source": [
        ""
      ],
      "execution_count": 0,
      "outputs": []
    },
    {
      "cell_type": "code",
      "metadata": {
        "id": "yqZG6OgjokFW",
        "colab_type": "code",
        "colab": {}
      },
      "source": [
        ""
      ],
      "execution_count": 0,
      "outputs": []
    },
    {
      "cell_type": "code",
      "metadata": {
        "id": "ADHyYWvjokDs",
        "colab_type": "code",
        "colab": {}
      },
      "source": [
        ""
      ],
      "execution_count": 0,
      "outputs": []
    },
    {
      "cell_type": "code",
      "metadata": {
        "id": "_-orYQlkokCD",
        "colab_type": "code",
        "colab": {}
      },
      "source": [
        ""
      ],
      "execution_count": 0,
      "outputs": []
    },
    {
      "cell_type": "code",
      "metadata": {
        "id": "dL4XBCR_okAK",
        "colab_type": "code",
        "colab": {}
      },
      "source": [
        ""
      ],
      "execution_count": 0,
      "outputs": []
    },
    {
      "cell_type": "code",
      "metadata": {
        "id": "5jErYloToj9m",
        "colab_type": "code",
        "colab": {}
      },
      "source": [
        ""
      ],
      "execution_count": 0,
      "outputs": []
    },
    {
      "cell_type": "code",
      "metadata": {
        "id": "CHYCfIRhoj6z",
        "colab_type": "code",
        "colab": {}
      },
      "source": [
        ""
      ],
      "execution_count": 0,
      "outputs": []
    },
    {
      "cell_type": "code",
      "metadata": {
        "id": "RQPOgo3goj4y",
        "colab_type": "code",
        "colab": {}
      },
      "source": [
        ""
      ],
      "execution_count": 0,
      "outputs": []
    },
    {
      "cell_type": "code",
      "metadata": {
        "id": "KoG99w_Ooj1D",
        "colab_type": "code",
        "colab": {}
      },
      "source": [
        ""
      ],
      "execution_count": 0,
      "outputs": []
    }
  ]
}